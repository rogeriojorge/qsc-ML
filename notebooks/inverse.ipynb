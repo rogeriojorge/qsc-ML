{
 "cells": [
  {
   "cell_type": "code",
   "execution_count": 1,
   "id": "a006d30b",
   "metadata": {},
   "outputs": [],
   "source": [
    "import pandas as pd\n",
    "\n",
    "from sklearn.model_selection import train_test_split\n",
    "\n",
    "from sklearn.preprocessing import StandardScaler\n",
    "\n",
    "from keras.optimizers import Adam\n",
    "\n",
    "from sklearn.multioutput import MultiOutputRegressor\n",
    "from sklearn.linear_model import Ridge\n",
    "\n",
    "from sklearn.metrics import mean_absolute_error"
   ]
  },
  {
   "cell_type": "code",
   "execution_count": 2,
   "id": "3feecd48",
   "metadata": {},
   "outputs": [],
   "source": [
    "params = {\n",
    "    'epochs': 200,\n",
    "    'test_size': 0.2,\n",
    "    'random_state': 1337,\n",
    "    'validation_split': 0.2\n",
    "}"
   ]
  },
  {
   "cell_type": "code",
   "execution_count": 3,
   "id": "626db50d",
   "metadata": {},
   "outputs": [],
   "source": [
    "df = pd.read_csv(\"../data/qsc_out.random_scan_nfp2.csv\")"
   ]
  },
  {
   "cell_type": "code",
   "execution_count": 4,
   "id": "266e3f7c",
   "metadata": {},
   "outputs": [
    {
     "data": {
      "text/html": [
       "<div>\n",
       "<style scoped>\n",
       "    .dataframe tbody tr th:only-of-type {\n",
       "        vertical-align: middle;\n",
       "    }\n",
       "\n",
       "    .dataframe tbody tr th {\n",
       "        vertical-align: top;\n",
       "    }\n",
       "\n",
       "    .dataframe thead th {\n",
       "        text-align: right;\n",
       "    }\n",
       "</style>\n",
       "<table border=\"1\" class=\"dataframe\">\n",
       "  <thead>\n",
       "    <tr style=\"text-align: right;\">\n",
       "      <th></th>\n",
       "      <th>x1</th>\n",
       "      <th>x2</th>\n",
       "      <th>x3</th>\n",
       "      <th>x4</th>\n",
       "      <th>x5</th>\n",
       "      <th>x6</th>\n",
       "      <th>x7</th>\n",
       "      <th>x8</th>\n",
       "      <th>y0</th>\n",
       "      <th>y1</th>\n",
       "      <th>y2</th>\n",
       "      <th>y3</th>\n",
       "      <th>y4</th>\n",
       "      <th>y5</th>\n",
       "      <th>y6</th>\n",
       "    </tr>\n",
       "  </thead>\n",
       "  <tbody>\n",
       "    <tr>\n",
       "      <th>0</th>\n",
       "      <td>-0.104856</td>\n",
       "      <td>0.197790</td>\n",
       "      <td>0.001260</td>\n",
       "      <td>-0.011792</td>\n",
       "      <td>0.000794</td>\n",
       "      <td>0.000120</td>\n",
       "      <td>-0.687180</td>\n",
       "      <td>-0.215177</td>\n",
       "      <td>0.948834</td>\n",
       "      <td>0.264545</td>\n",
       "      <td>0.404154</td>\n",
       "      <td>0.631039</td>\n",
       "      <td>0.898928</td>\n",
       "      <td>1.581192</td>\n",
       "      <td>0.334374</td>\n",
       "    </tr>\n",
       "    <tr>\n",
       "      <th>1</th>\n",
       "      <td>-0.110385</td>\n",
       "      <td>0.188144</td>\n",
       "      <td>0.001381</td>\n",
       "      <td>-0.011358</td>\n",
       "      <td>0.000855</td>\n",
       "      <td>0.000138</td>\n",
       "      <td>-0.658897</td>\n",
       "      <td>-0.233486</td>\n",
       "      <td>0.930837</td>\n",
       "      <td>0.298531</td>\n",
       "      <td>0.469811</td>\n",
       "      <td>0.639501</td>\n",
       "      <td>0.876879</td>\n",
       "      <td>1.568947</td>\n",
       "      <td>0.336379</td>\n",
       "    </tr>\n",
       "    <tr>\n",
       "      <th>2</th>\n",
       "      <td>-0.095042</td>\n",
       "      <td>0.132051</td>\n",
       "      <td>0.000675</td>\n",
       "      <td>-0.008909</td>\n",
       "      <td>0.000477</td>\n",
       "      <td>0.000348</td>\n",
       "      <td>-0.671871</td>\n",
       "      <td>-0.944641</td>\n",
       "      <td>1.526347</td>\n",
       "      <td>0.385624</td>\n",
       "      <td>0.334515</td>\n",
       "      <td>0.468280</td>\n",
       "      <td>0.804239</td>\n",
       "      <td>1.288313</td>\n",
       "      <td>0.331086</td>\n",
       "    </tr>\n",
       "    <tr>\n",
       "      <th>3</th>\n",
       "      <td>-0.115912</td>\n",
       "      <td>-0.207162</td>\n",
       "      <td>0.001411</td>\n",
       "      <td>0.012060</td>\n",
       "      <td>0.000871</td>\n",
       "      <td>-0.000108</td>\n",
       "      <td>-0.736734</td>\n",
       "      <td>0.012462</td>\n",
       "      <td>0.783335</td>\n",
       "      <td>0.278748</td>\n",
       "      <td>0.497138</td>\n",
       "      <td>0.645087</td>\n",
       "      <td>0.926717</td>\n",
       "      <td>1.717088</td>\n",
       "      <td>0.338459</td>\n",
       "    </tr>\n",
       "    <tr>\n",
       "      <th>4</th>\n",
       "      <td>-0.096390</td>\n",
       "      <td>-0.217079</td>\n",
       "      <td>0.000933</td>\n",
       "      <td>0.010517</td>\n",
       "      <td>0.000621</td>\n",
       "      <td>-0.000126</td>\n",
       "      <td>-0.764525</td>\n",
       "      <td>-0.048433</td>\n",
       "      <td>0.925351</td>\n",
       "      <td>0.272636</td>\n",
       "      <td>0.548743</td>\n",
       "      <td>0.631384</td>\n",
       "      <td>0.941509</td>\n",
       "      <td>1.549327</td>\n",
       "      <td>0.331432</td>\n",
       "    </tr>\n",
       "  </tbody>\n",
       "</table>\n",
       "</div>"
      ],
      "text/plain": [
       "         x1        x2        x3        x4        x5        x6        x7   \n",
       "0 -0.104856  0.197790  0.001260 -0.011792  0.000794  0.000120 -0.687180  \\\n",
       "1 -0.110385  0.188144  0.001381 -0.011358  0.000855  0.000138 -0.658897   \n",
       "2 -0.095042  0.132051  0.000675 -0.008909  0.000477  0.000348 -0.671871   \n",
       "3 -0.115912 -0.207162  0.001411  0.012060  0.000871 -0.000108 -0.736734   \n",
       "4 -0.096390 -0.217079  0.000933  0.010517  0.000621 -0.000126 -0.764525   \n",
       "\n",
       "         x8        y0        y1        y2        y3        y4        y5   \n",
       "0 -0.215177  0.948834  0.264545  0.404154  0.631039  0.898928  1.581192  \\\n",
       "1 -0.233486  0.930837  0.298531  0.469811  0.639501  0.876879  1.568947   \n",
       "2 -0.944641  1.526347  0.385624  0.334515  0.468280  0.804239  1.288313   \n",
       "3  0.012462  0.783335  0.278748  0.497138  0.645087  0.926717  1.717088   \n",
       "4 -0.048433  0.925351  0.272636  0.548743  0.631384  0.941509  1.549327   \n",
       "\n",
       "         y6  \n",
       "0  0.334374  \n",
       "1  0.336379  \n",
       "2  0.331086  \n",
       "3  0.338459  \n",
       "4  0.331432  "
      ]
     },
     "execution_count": 4,
     "metadata": {},
     "output_type": "execute_result"
    }
   ],
   "source": [
    "df.head()"
   ]
  },
  {
   "cell_type": "code",
   "execution_count": 5,
   "id": "fe81e8b0",
   "metadata": {},
   "outputs": [
    {
     "data": {
      "text/plain": [
       "(29674, 15)"
      ]
     },
     "execution_count": 5,
     "metadata": {},
     "output_type": "execute_result"
    }
   ],
   "source": [
    "df.shape"
   ]
  },
  {
   "cell_type": "code",
   "execution_count": 6,
   "id": "bc22d964",
   "metadata": {},
   "outputs": [],
   "source": [
    "x_columns = [col for col in df.columns if col.startswith('x')]\n",
    "y_columns = [col for col in df.columns if col.startswith('y')]\n",
    "\n",
    "## ACTUALLY SOLVING THE INVERSE PROBLEM\n",
    "Y = df[x_columns].values\n",
    "X = df[y_columns].values"
   ]
  },
  {
   "cell_type": "code",
   "execution_count": 7,
   "id": "368937c3",
   "metadata": {},
   "outputs": [],
   "source": [
    "def preprocess_data(X_train, X_test, Y_train, Y_test, params):\n",
    "    scaler_x = StandardScaler().fit(X_train)\n",
    "    scaler_y = StandardScaler().fit(Y_train)\n",
    "    X_train = scaler_x.transform(X_train)\n",
    "    X_test = scaler_x.transform(X_test)\n",
    "    Y_train = scaler_y.transform(Y_train)\n",
    "    Y_test = scaler_y.transform(Y_test)\n",
    "\n",
    "    input_shape = X_train.shape[1]\n",
    "    \n",
    "    output_shape = Y_train.shape[1]\n",
    "    return X_train, X_test, Y_train, Y_test, input_shape, output_shape, scaler_x, scaler_y\n",
    "\n",
    "X_train, X_test, Y_train, Y_test = train_test_split(X, Y, test_size=params['test_size'], \n",
    "                                                    random_state=params['random_state'])\n",
    "\n",
    "X_train, X_test, Y_train, Y_test, input_shape, output_shape, scaler_x, scaler_y = preprocess_data(X_train, X_test, Y_train, Y_test, params)"
   ]
  },
  {
   "cell_type": "code",
   "execution_count": 8,
   "id": "9d8e5d28",
   "metadata": {},
   "outputs": [
    {
     "data": {
      "text/plain": [
       "(array([-1.23324421e-14,  2.75938148e-14, -7.59591967e-15, -1.74703992e-14,\n",
       "        -3.12392412e-14, -5.68256506e-14, -1.97065971e-13]),\n",
       " array([1., 1., 1., 1., 1., 1., 1.]))"
      ]
     },
     "execution_count": 8,
     "metadata": {},
     "output_type": "execute_result"
    }
   ],
   "source": [
    "X_train.mean(axis=0), X_train.std(axis=0) "
   ]
  },
  {
   "cell_type": "markdown",
   "id": "9395cc23",
   "metadata": {},
   "source": [
    "## Appears to be drift, perhaps the sample is not big enough"
   ]
  },
  {
   "cell_type": "code",
   "execution_count": 9,
   "id": "ea6231fd",
   "metadata": {},
   "outputs": [
    {
     "data": {
      "text/plain": [
       "(array([ 0.002863  ,  0.0093879 , -0.00576779, -0.01150026, -0.01160122,\n",
       "        -0.01466698, -0.0055547 ]),\n",
       " array([1.00800321, 1.00616058, 1.0009353 , 0.99290648, 0.99481008,\n",
       "        1.00920012, 0.71155792]))"
      ]
     },
     "execution_count": 9,
     "metadata": {},
     "output_type": "execute_result"
    }
   ],
   "source": [
    "X_test.mean(axis=0), X_test.std(axis=0) "
   ]
  },
  {
   "cell_type": "code",
   "execution_count": 10,
   "id": "ec739c45",
   "metadata": {},
   "outputs": [
    {
     "data": {
      "text/plain": [
       "(array([-1.86603895e-17, -2.39778990e-17, -4.12750044e-17, -8.97978632e-17,\n",
       "         1.45237693e-17,  4.88584184e-17, -7.02959790e-15, -1.74744727e-15]),\n",
       " array([1., 1., 1., 1., 1., 1., 1., 1.]))"
      ]
     },
     "execution_count": 10,
     "metadata": {},
     "output_type": "execute_result"
    }
   ],
   "source": [
    "Y_train.mean(axis=0), Y_train.std(axis=0) "
   ]
  },
  {
   "cell_type": "code",
   "execution_count": 11,
   "id": "031dc5fd",
   "metadata": {},
   "outputs": [
    {
     "data": {
      "text/plain": [
       "(array([ 0.01621399, -0.00112999,  0.01755134,  0.01955565,  0.01673425,\n",
       "         0.00871709, -0.01095845, -0.02030808]),\n",
       " array([0.99488322, 0.99650294, 0.78686316, 0.96749519, 0.93053514,\n",
       "        0.90833692, 1.01170468, 1.00410648]))"
      ]
     },
     "execution_count": 11,
     "metadata": {},
     "output_type": "execute_result"
    }
   ],
   "source": [
    "Y_test.mean(axis=0), Y_test.std(axis=0)"
   ]
  },
  {
   "cell_type": "markdown",
   "id": "570f8bae",
   "metadata": {},
   "source": [
    "## Dummy regressor"
   ]
  },
  {
   "cell_type": "code",
   "execution_count": 12,
   "id": "4a3f6c98",
   "metadata": {},
   "outputs": [],
   "source": [
    "from sklearn.dummy import DummyRegressor"
   ]
  },
  {
   "cell_type": "code",
   "execution_count": 13,
   "id": "98a743cb",
   "metadata": {},
   "outputs": [
    {
     "data": {
      "text/plain": [
       "array([[-2.22989316e-17, -3.83122584e-17,  1.19725807e-18, ...,\n",
       "         4.54958068e-17, -7.02072135e-15, -1.75727554e-15],\n",
       "       [-2.22989316e-17, -3.83122584e-17,  1.19725807e-18, ...,\n",
       "         4.54958068e-17, -7.02072135e-15, -1.75727554e-15],\n",
       "       [-2.22989316e-17, -3.83122584e-17,  1.19725807e-18, ...,\n",
       "         4.54958068e-17, -7.02072135e-15, -1.75727554e-15],\n",
       "       ...,\n",
       "       [-2.22989316e-17, -3.83122584e-17,  1.19725807e-18, ...,\n",
       "         4.54958068e-17, -7.02072135e-15, -1.75727554e-15],\n",
       "       [-2.22989316e-17, -3.83122584e-17,  1.19725807e-18, ...,\n",
       "         4.54958068e-17, -7.02072135e-15, -1.75727554e-15],\n",
       "       [-2.22989316e-17, -3.83122584e-17,  1.19725807e-18, ...,\n",
       "         4.54958068e-17, -7.02072135e-15, -1.75727554e-15]])"
      ]
     },
     "execution_count": 13,
     "metadata": {},
     "output_type": "execute_result"
    }
   ],
   "source": [
    "regr = MultiOutputRegressor(DummyRegressor(strategy=\"mean\")).fit(X_train, Y_train)\n",
    "regr.predict(X_train)"
   ]
  },
  {
   "cell_type": "code",
   "execution_count": 14,
   "id": "2f63f156",
   "metadata": {},
   "outputs": [
    {
     "data": {
      "text/plain": [
       "0.7520506841719812"
      ]
     },
     "execution_count": 14,
     "metadata": {},
     "output_type": "execute_result"
    }
   ],
   "source": [
    "mean_absolute_error(Y_train, regr.predict(X_train))"
   ]
  },
  {
   "cell_type": "code",
   "execution_count": 15,
   "id": "3f93f49b",
   "metadata": {},
   "outputs": [
    {
     "data": {
      "text/plain": [
       "0.7473980441803673"
      ]
     },
     "execution_count": 15,
     "metadata": {},
     "output_type": "execute_result"
    }
   ],
   "source": [
    "mean_absolute_error(Y_test, regr.predict(X_test))"
   ]
  },
  {
   "cell_type": "markdown",
   "id": "d04a0b59",
   "metadata": {},
   "source": [
    "## Train a linear regression for debugging"
   ]
  },
  {
   "cell_type": "code",
   "execution_count": 16,
   "id": "5d16830e",
   "metadata": {},
   "outputs": [
    {
     "data": {
      "text/plain": [
       "array([[-3.55665513e-02, -2.79101710e-03, -3.97968237e-01, ...,\n",
       "        -9.39772110e-03,  6.05940341e-01,  4.67702463e-01],\n",
       "       [ 1.62366516e-02, -5.68281660e-03,  1.66705922e-01, ...,\n",
       "        -1.90792653e-02, -2.11958735e-01, -8.31790141e-01],\n",
       "       [ 1.21508354e-01, -8.92874878e-04,  2.18078322e-01, ...,\n",
       "         8.26661821e-03,  2.45308151e-01,  2.67802098e-01],\n",
       "       ...,\n",
       "       [-1.51470886e-01, -7.14298286e-04,  1.08530067e-01, ...,\n",
       "         1.08681843e-02, -2.90026348e-01,  1.83160605e-01],\n",
       "       [ 1.23148773e-01, -3.68630926e-03,  4.82192951e-02, ...,\n",
       "         4.07378792e-03,  1.40822159e-01, -9.40254972e-02],\n",
       "       [-3.72500527e-02,  3.03308290e-03,  3.33386565e-01, ...,\n",
       "         8.10580312e-03, -3.00204385e-01,  3.60992209e-01]])"
      ]
     },
     "execution_count": 16,
     "metadata": {},
     "output_type": "execute_result"
    }
   ],
   "source": [
    "regr = MultiOutputRegressor(Ridge(random_state=123)).fit(X_train, Y_train)\n",
    "regr.predict(X_train)"
   ]
  },
  {
   "cell_type": "code",
   "execution_count": 17,
   "id": "ace27dde",
   "metadata": {},
   "outputs": [
    {
     "data": {
      "text/plain": [
       "0.7285670975322824"
      ]
     },
     "execution_count": 17,
     "metadata": {},
     "output_type": "execute_result"
    }
   ],
   "source": [
    "mean_absolute_error(Y_train, regr.predict(X_train))"
   ]
  },
  {
   "cell_type": "code",
   "execution_count": 18,
   "id": "b6c2c051",
   "metadata": {},
   "outputs": [
    {
     "data": {
      "text/plain": [
       "0.7245307881968837"
      ]
     },
     "execution_count": 18,
     "metadata": {},
     "output_type": "execute_result"
    }
   ],
   "source": [
    "mean_absolute_error(Y_test, regr.predict(X_test))"
   ]
  },
  {
   "cell_type": "markdown",
   "id": "fc845dde",
   "metadata": {},
   "source": [
    "## Simplest neural network"
   ]
  },
  {
   "cell_type": "code",
   "execution_count": 19,
   "id": "e2090cf5",
   "metadata": {},
   "outputs": [],
   "source": [
    "import tensorflow as tf\n",
    "from tensorflow import keras\n",
    "from tensorflow.keras import layers"
   ]
  },
  {
   "cell_type": "code",
   "execution_count": 20,
   "id": "f5c2fcbb",
   "metadata": {},
   "outputs": [
    {
     "data": {
      "text/plain": [
       "<tf.Tensor: shape=(1, 8), dtype=float32, numpy=\n",
       "array([[ 0.1619258 ,  0.18810499, -0.2724566 ,  0.4558525 ,  0.15727292,\n",
       "         0.12754606, -0.01106999,  0.1740163 ]], dtype=float32)>"
      ]
     },
     "execution_count": 20,
     "metadata": {},
     "output_type": "execute_result"
    }
   ],
   "source": [
    "# Define Sequential model with 3 layers\n",
    "model = keras.Sequential(\n",
    "    [\n",
    "        layers.Dense(input_shape, activation=\"relu\", name=\"layer_in\"),\n",
    "        layers.Dense(128, activation=\"relu\", name=\"layer2\"),\n",
    "        layers.Dense(64, activation=\"relu\", name=\"layer3\"),\n",
    "        layers.Dense(output_shape, name=\"layer_out\"),\n",
    "    ]\n",
    ")\n",
    "\n",
    "model(X_train[0:1])"
   ]
  },
  {
   "cell_type": "code",
   "execution_count": 21,
   "id": "dd7e9881",
   "metadata": {},
   "outputs": [
    {
     "name": "stdout",
     "output_type": "stream",
     "text": [
      "Model: \"sequential\"\n",
      "_________________________________________________________________\n",
      " Layer (type)                Output Shape              Param #   \n",
      "=================================================================\n",
      " layer_in (Dense)            (1, 7)                    56        \n",
      "                                                                 \n",
      " layer2 (Dense)              (1, 128)                  1024      \n",
      "                                                                 \n",
      " layer3 (Dense)              (1, 64)                   8256      \n",
      "                                                                 \n",
      " layer_out (Dense)           (1, 8)                    520       \n",
      "                                                                 \n",
      "=================================================================\n",
      "Total params: 9856 (38.50 KB)\n",
      "Trainable params: 9856 (38.50 KB)\n",
      "Non-trainable params: 0 (0.00 Byte)\n",
      "_________________________________________________________________\n"
     ]
    }
   ],
   "source": [
    "model.summary()"
   ]
  },
  {
   "cell_type": "code",
   "execution_count": 22,
   "id": "db203b92",
   "metadata": {},
   "outputs": [
    {
     "name": "stderr",
     "output_type": "stream",
     "text": [
      "WARNING:absl:At this time, the v2.11+ optimizer `tf.keras.optimizers.RMSprop` runs slowly on M1/M2 Macs, please use the legacy Keras optimizer instead, located at `tf.keras.optimizers.legacy.RMSprop`.\n",
      "WARNING:absl:There is a known slowdown when using v2.11+ Keras optimizers on M1/M2 Macs. Falling back to the legacy Keras optimizer, i.e., `tf.keras.optimizers.legacy.RMSprop`.\n"
     ]
    }
   ],
   "source": [
    "model.compile(\n",
    "    optimizer=keras.optimizers.RMSprop(),  # Optimizer\n",
    "    # Loss function to minimize\n",
    "    loss=keras.losses.MeanAbsoluteError(),\n",
    "    # List of metrics to monitor\n",
    "    metrics=[keras.metrics.MeanAbsoluteError()],\n",
    ")"
   ]
  },
  {
   "cell_type": "code",
   "execution_count": 23,
   "id": "1a4fbb96",
   "metadata": {},
   "outputs": [
    {
     "name": "stdout",
     "output_type": "stream",
     "text": [
      "Fit model on training data\n",
      "Epoch 1/200\n",
      "371/371 [==============================] - 1s 794us/step - loss: 0.6982 - mean_absolute_error: 0.6982 - val_loss: 0.6775 - val_mean_absolute_error: 0.6775\n",
      "Epoch 2/200\n",
      "371/371 [==============================] - 0s 620us/step - loss: 0.6788 - mean_absolute_error: 0.6788 - val_loss: 0.6656 - val_mean_absolute_error: 0.6656\n",
      "Epoch 3/200\n",
      "371/371 [==============================] - 0s 608us/step - loss: 0.6689 - mean_absolute_error: 0.6689 - val_loss: 0.6586 - val_mean_absolute_error: 0.6586\n",
      "Epoch 4/200\n",
      "371/371 [==============================] - 0s 599us/step - loss: 0.6627 - mean_absolute_error: 0.6627 - val_loss: 0.6539 - val_mean_absolute_error: 0.6539\n",
      "Epoch 5/200\n",
      "371/371 [==============================] - 0s 617us/step - loss: 0.6570 - mean_absolute_error: 0.6570 - val_loss: 0.6492 - val_mean_absolute_error: 0.6492\n",
      "Epoch 6/200\n",
      "371/371 [==============================] - 0s 606us/step - loss: 0.6517 - mean_absolute_error: 0.6517 - val_loss: 0.6450 - val_mean_absolute_error: 0.6450\n",
      "Epoch 7/200\n",
      "371/371 [==============================] - 0s 608us/step - loss: 0.6459 - mean_absolute_error: 0.6459 - val_loss: 0.6379 - val_mean_absolute_error: 0.6379\n",
      "Epoch 8/200\n",
      "371/371 [==============================] - 0s 596us/step - loss: 0.6406 - mean_absolute_error: 0.6406 - val_loss: 0.6342 - val_mean_absolute_error: 0.6342\n",
      "Epoch 9/200\n",
      "371/371 [==============================] - 0s 607us/step - loss: 0.6353 - mean_absolute_error: 0.6353 - val_loss: 0.6299 - val_mean_absolute_error: 0.6299\n",
      "Epoch 10/200\n",
      "371/371 [==============================] - 0s 610us/step - loss: 0.6307 - mean_absolute_error: 0.6307 - val_loss: 0.6259 - val_mean_absolute_error: 0.6259\n",
      "Epoch 11/200\n",
      "371/371 [==============================] - 0s 608us/step - loss: 0.6271 - mean_absolute_error: 0.6271 - val_loss: 0.6244 - val_mean_absolute_error: 0.6244\n",
      "Epoch 12/200\n",
      "371/371 [==============================] - 0s 601us/step - loss: 0.6237 - mean_absolute_error: 0.6237 - val_loss: 0.6189 - val_mean_absolute_error: 0.6189\n",
      "Epoch 13/200\n",
      "371/371 [==============================] - 0s 614us/step - loss: 0.6203 - mean_absolute_error: 0.6203 - val_loss: 0.6181 - val_mean_absolute_error: 0.6181\n",
      "Epoch 14/200\n",
      "371/371 [==============================] - 0s 607us/step - loss: 0.6177 - mean_absolute_error: 0.6177 - val_loss: 0.6142 - val_mean_absolute_error: 0.6142\n",
      "Epoch 15/200\n",
      "371/371 [==============================] - 0s 602us/step - loss: 0.6152 - mean_absolute_error: 0.6152 - val_loss: 0.6121 - val_mean_absolute_error: 0.6121\n",
      "Epoch 16/200\n",
      "371/371 [==============================] - 0s 610us/step - loss: 0.6129 - mean_absolute_error: 0.6129 - val_loss: 0.6106 - val_mean_absolute_error: 0.6106\n",
      "Epoch 17/200\n",
      "371/371 [==============================] - 0s 610us/step - loss: 0.6110 - mean_absolute_error: 0.6110 - val_loss: 0.6084 - val_mean_absolute_error: 0.6084\n",
      "Epoch 18/200\n",
      "371/371 [==============================] - 0s 613us/step - loss: 0.6091 - mean_absolute_error: 0.6091 - val_loss: 0.6068 - val_mean_absolute_error: 0.6068\n",
      "Epoch 19/200\n",
      "371/371 [==============================] - 0s 618us/step - loss: 0.6070 - mean_absolute_error: 0.6070 - val_loss: 0.6048 - val_mean_absolute_error: 0.6048\n",
      "Epoch 20/200\n",
      "371/371 [==============================] - 0s 604us/step - loss: 0.6055 - mean_absolute_error: 0.6055 - val_loss: 0.6053 - val_mean_absolute_error: 0.6053\n",
      "Epoch 21/200\n",
      "371/371 [==============================] - 0s 603us/step - loss: 0.6039 - mean_absolute_error: 0.6039 - val_loss: 0.6031 - val_mean_absolute_error: 0.6031\n",
      "Epoch 22/200\n",
      "371/371 [==============================] - 0s 614us/step - loss: 0.6024 - mean_absolute_error: 0.6024 - val_loss: 0.6008 - val_mean_absolute_error: 0.6008\n",
      "Epoch 23/200\n",
      "371/371 [==============================] - 0s 609us/step - loss: 0.6012 - mean_absolute_error: 0.6012 - val_loss: 0.5996 - val_mean_absolute_error: 0.5996\n",
      "Epoch 24/200\n",
      "371/371 [==============================] - 0s 606us/step - loss: 0.5998 - mean_absolute_error: 0.5998 - val_loss: 0.5988 - val_mean_absolute_error: 0.5988\n",
      "Epoch 25/200\n",
      "371/371 [==============================] - 0s 605us/step - loss: 0.5983 - mean_absolute_error: 0.5983 - val_loss: 0.5991 - val_mean_absolute_error: 0.5991\n",
      "Epoch 26/200\n",
      "371/371 [==============================] - 0s 603us/step - loss: 0.5973 - mean_absolute_error: 0.5973 - val_loss: 0.5973 - val_mean_absolute_error: 0.5973\n",
      "Epoch 27/200\n",
      "371/371 [==============================] - 0s 607us/step - loss: 0.5961 - mean_absolute_error: 0.5961 - val_loss: 0.5989 - val_mean_absolute_error: 0.5989\n",
      "Epoch 28/200\n",
      "371/371 [==============================] - 0s 618us/step - loss: 0.5951 - mean_absolute_error: 0.5951 - val_loss: 0.5941 - val_mean_absolute_error: 0.5941\n",
      "Epoch 29/200\n",
      "371/371 [==============================] - 0s 602us/step - loss: 0.5941 - mean_absolute_error: 0.5941 - val_loss: 0.5940 - val_mean_absolute_error: 0.5940\n",
      "Epoch 30/200\n",
      "371/371 [==============================] - 0s 607us/step - loss: 0.5930 - mean_absolute_error: 0.5930 - val_loss: 0.5944 - val_mean_absolute_error: 0.5944\n",
      "Epoch 31/200\n",
      "371/371 [==============================] - 0s 607us/step - loss: 0.5921 - mean_absolute_error: 0.5921 - val_loss: 0.5938 - val_mean_absolute_error: 0.5938\n",
      "Epoch 32/200\n",
      "371/371 [==============================] - 0s 621us/step - loss: 0.5911 - mean_absolute_error: 0.5911 - val_loss: 0.5930 - val_mean_absolute_error: 0.5930\n",
      "Epoch 33/200\n",
      "371/371 [==============================] - 0s 608us/step - loss: 0.5899 - mean_absolute_error: 0.5899 - val_loss: 0.5907 - val_mean_absolute_error: 0.5907\n",
      "Epoch 34/200\n",
      "371/371 [==============================] - 0s 604us/step - loss: 0.5892 - mean_absolute_error: 0.5892 - val_loss: 0.5912 - val_mean_absolute_error: 0.5912\n",
      "Epoch 35/200\n",
      "371/371 [==============================] - 0s 609us/step - loss: 0.5883 - mean_absolute_error: 0.5883 - val_loss: 0.5906 - val_mean_absolute_error: 0.5906\n",
      "Epoch 36/200\n",
      "371/371 [==============================] - 0s 605us/step - loss: 0.5878 - mean_absolute_error: 0.5878 - val_loss: 0.5903 - val_mean_absolute_error: 0.5903\n",
      "Epoch 37/200\n",
      "371/371 [==============================] - 0s 601us/step - loss: 0.5865 - mean_absolute_error: 0.5865 - val_loss: 0.5889 - val_mean_absolute_error: 0.5889\n",
      "Epoch 38/200\n",
      "371/371 [==============================] - 0s 602us/step - loss: 0.5858 - mean_absolute_error: 0.5858 - val_loss: 0.5879 - val_mean_absolute_error: 0.5879\n",
      "Epoch 39/200\n",
      "371/371 [==============================] - 0s 603us/step - loss: 0.5850 - mean_absolute_error: 0.5850 - val_loss: 0.5888 - val_mean_absolute_error: 0.5888\n",
      "Epoch 40/200\n",
      "371/371 [==============================] - 0s 628us/step - loss: 0.5845 - mean_absolute_error: 0.5845 - val_loss: 0.5892 - val_mean_absolute_error: 0.5892\n",
      "Epoch 41/200\n",
      "371/371 [==============================] - 0s 604us/step - loss: 0.5839 - mean_absolute_error: 0.5839 - val_loss: 0.5890 - val_mean_absolute_error: 0.5890\n",
      "Epoch 42/200\n",
      "371/371 [==============================] - 0s 603us/step - loss: 0.5832 - mean_absolute_error: 0.5832 - val_loss: 0.5883 - val_mean_absolute_error: 0.5883\n",
      "Epoch 43/200\n",
      "371/371 [==============================] - 0s 601us/step - loss: 0.5824 - mean_absolute_error: 0.5824 - val_loss: 0.5864 - val_mean_absolute_error: 0.5864\n",
      "Epoch 44/200\n",
      "371/371 [==============================] - 0s 601us/step - loss: 0.5818 - mean_absolute_error: 0.5818 - val_loss: 0.5852 - val_mean_absolute_error: 0.5852\n",
      "Epoch 45/200\n",
      "371/371 [==============================] - 0s 602us/step - loss: 0.5812 - mean_absolute_error: 0.5812 - val_loss: 0.5850 - val_mean_absolute_error: 0.5850\n",
      "Epoch 46/200\n",
      "371/371 [==============================] - 0s 600us/step - loss: 0.5805 - mean_absolute_error: 0.5805 - val_loss: 0.5853 - val_mean_absolute_error: 0.5853\n",
      "Epoch 47/200\n",
      "371/371 [==============================] - 0s 598us/step - loss: 0.5801 - mean_absolute_error: 0.5801 - val_loss: 0.5849 - val_mean_absolute_error: 0.5849\n",
      "Epoch 48/200\n",
      "371/371 [==============================] - 0s 600us/step - loss: 0.5789 - mean_absolute_error: 0.5789 - val_loss: 0.5845 - val_mean_absolute_error: 0.5845\n",
      "Epoch 49/200\n",
      "371/371 [==============================] - 0s 602us/step - loss: 0.5787 - mean_absolute_error: 0.5787 - val_loss: 0.5834 - val_mean_absolute_error: 0.5834\n"
     ]
    },
    {
     "name": "stdout",
     "output_type": "stream",
     "text": [
      "Epoch 50/200\n",
      "371/371 [==============================] - 0s 604us/step - loss: 0.5781 - mean_absolute_error: 0.5781 - val_loss: 0.5837 - val_mean_absolute_error: 0.5837\n",
      "Epoch 51/200\n",
      "371/371 [==============================] - 0s 602us/step - loss: 0.5775 - mean_absolute_error: 0.5775 - val_loss: 0.5830 - val_mean_absolute_error: 0.5830\n",
      "Epoch 52/200\n",
      "371/371 [==============================] - 0s 610us/step - loss: 0.5768 - mean_absolute_error: 0.5768 - val_loss: 0.5826 - val_mean_absolute_error: 0.5826\n",
      "Epoch 53/200\n",
      "371/371 [==============================] - 0s 603us/step - loss: 0.5760 - mean_absolute_error: 0.5760 - val_loss: 0.5843 - val_mean_absolute_error: 0.5843\n",
      "Epoch 54/200\n",
      "371/371 [==============================] - 0s 605us/step - loss: 0.5757 - mean_absolute_error: 0.5757 - val_loss: 0.5830 - val_mean_absolute_error: 0.5830\n",
      "Epoch 55/200\n",
      "371/371 [==============================] - 0s 606us/step - loss: 0.5757 - mean_absolute_error: 0.5757 - val_loss: 0.5804 - val_mean_absolute_error: 0.5804\n",
      "Epoch 56/200\n",
      "371/371 [==============================] - 0s 604us/step - loss: 0.5746 - mean_absolute_error: 0.5746 - val_loss: 0.5823 - val_mean_absolute_error: 0.5823\n",
      "Epoch 57/200\n",
      "371/371 [==============================] - 0s 604us/step - loss: 0.5744 - mean_absolute_error: 0.5744 - val_loss: 0.5802 - val_mean_absolute_error: 0.5802\n",
      "Epoch 58/200\n",
      "371/371 [==============================] - 0s 608us/step - loss: 0.5741 - mean_absolute_error: 0.5741 - val_loss: 0.5812 - val_mean_absolute_error: 0.5812\n",
      "Epoch 59/200\n",
      "371/371 [==============================] - 0s 602us/step - loss: 0.5734 - mean_absolute_error: 0.5734 - val_loss: 0.5807 - val_mean_absolute_error: 0.5807\n",
      "Epoch 60/200\n",
      "371/371 [==============================] - 0s 605us/step - loss: 0.5730 - mean_absolute_error: 0.5730 - val_loss: 0.5796 - val_mean_absolute_error: 0.5796\n",
      "Epoch 61/200\n",
      "371/371 [==============================] - 0s 608us/step - loss: 0.5725 - mean_absolute_error: 0.5725 - val_loss: 0.5811 - val_mean_absolute_error: 0.5811\n",
      "Epoch 62/200\n",
      "371/371 [==============================] - 0s 608us/step - loss: 0.5722 - mean_absolute_error: 0.5722 - val_loss: 0.5810 - val_mean_absolute_error: 0.5810\n",
      "Epoch 63/200\n",
      "371/371 [==============================] - 0s 604us/step - loss: 0.5718 - mean_absolute_error: 0.5718 - val_loss: 0.5789 - val_mean_absolute_error: 0.5789\n",
      "Epoch 64/200\n",
      "371/371 [==============================] - 0s 604us/step - loss: 0.5713 - mean_absolute_error: 0.5713 - val_loss: 0.5791 - val_mean_absolute_error: 0.5791\n",
      "Epoch 65/200\n",
      "371/371 [==============================] - 0s 608us/step - loss: 0.5709 - mean_absolute_error: 0.5709 - val_loss: 0.5779 - val_mean_absolute_error: 0.5779\n",
      "Epoch 66/200\n",
      "371/371 [==============================] - 0s 606us/step - loss: 0.5705 - mean_absolute_error: 0.5705 - val_loss: 0.5787 - val_mean_absolute_error: 0.5787\n",
      "Epoch 67/200\n",
      "371/371 [==============================] - 0s 602us/step - loss: 0.5702 - mean_absolute_error: 0.5702 - val_loss: 0.5788 - val_mean_absolute_error: 0.5788\n",
      "Epoch 68/200\n",
      "371/371 [==============================] - 0s 702us/step - loss: 0.5696 - mean_absolute_error: 0.5696 - val_loss: 0.5795 - val_mean_absolute_error: 0.5795\n",
      "Epoch 69/200\n",
      "371/371 [==============================] - 0s 633us/step - loss: 0.5692 - mean_absolute_error: 0.5692 - val_loss: 0.5803 - val_mean_absolute_error: 0.5803\n",
      "Epoch 70/200\n",
      "371/371 [==============================] - 0s 619us/step - loss: 0.5688 - mean_absolute_error: 0.5688 - val_loss: 0.5780 - val_mean_absolute_error: 0.5780\n",
      "Epoch 71/200\n",
      "371/371 [==============================] - 0s 618us/step - loss: 0.5686 - mean_absolute_error: 0.5686 - val_loss: 0.5779 - val_mean_absolute_error: 0.5779\n",
      "Epoch 72/200\n",
      "371/371 [==============================] - 0s 604us/step - loss: 0.5681 - mean_absolute_error: 0.5681 - val_loss: 0.5795 - val_mean_absolute_error: 0.5795\n",
      "Epoch 73/200\n",
      "371/371 [==============================] - 0s 599us/step - loss: 0.5677 - mean_absolute_error: 0.5677 - val_loss: 0.5823 - val_mean_absolute_error: 0.5823\n",
      "Epoch 74/200\n",
      "371/371 [==============================] - 0s 602us/step - loss: 0.5677 - mean_absolute_error: 0.5677 - val_loss: 0.5780 - val_mean_absolute_error: 0.5780\n",
      "Epoch 75/200\n",
      "371/371 [==============================] - 0s 691us/step - loss: 0.5670 - mean_absolute_error: 0.5670 - val_loss: 0.5785 - val_mean_absolute_error: 0.5785\n",
      "Epoch 76/200\n",
      "371/371 [==============================] - 0s 643us/step - loss: 0.5667 - mean_absolute_error: 0.5667 - val_loss: 0.5795 - val_mean_absolute_error: 0.5795\n",
      "Epoch 77/200\n",
      "371/371 [==============================] - 0s 604us/step - loss: 0.5661 - mean_absolute_error: 0.5661 - val_loss: 0.5768 - val_mean_absolute_error: 0.5768\n",
      "Epoch 78/200\n",
      "371/371 [==============================] - 0s 599us/step - loss: 0.5662 - mean_absolute_error: 0.5662 - val_loss: 0.5784 - val_mean_absolute_error: 0.5784\n",
      "Epoch 79/200\n",
      "371/371 [==============================] - 0s 606us/step - loss: 0.5659 - mean_absolute_error: 0.5659 - val_loss: 0.5772 - val_mean_absolute_error: 0.5772\n",
      "Epoch 80/200\n",
      "371/371 [==============================] - 0s 603us/step - loss: 0.5655 - mean_absolute_error: 0.5655 - val_loss: 0.5791 - val_mean_absolute_error: 0.5791\n",
      "Epoch 81/200\n",
      "371/371 [==============================] - 0s 608us/step - loss: 0.5651 - mean_absolute_error: 0.5651 - val_loss: 0.5762 - val_mean_absolute_error: 0.5762\n",
      "Epoch 82/200\n",
      "371/371 [==============================] - 0s 598us/step - loss: 0.5649 - mean_absolute_error: 0.5649 - val_loss: 0.5777 - val_mean_absolute_error: 0.5777\n",
      "Epoch 83/200\n",
      "371/371 [==============================] - 0s 603us/step - loss: 0.5646 - mean_absolute_error: 0.5646 - val_loss: 0.5765 - val_mean_absolute_error: 0.5765\n",
      "Epoch 84/200\n",
      "371/371 [==============================] - 0s 644us/step - loss: 0.5646 - mean_absolute_error: 0.5646 - val_loss: 0.5804 - val_mean_absolute_error: 0.5804\n",
      "Epoch 85/200\n",
      "371/371 [==============================] - 0s 691us/step - loss: 0.5639 - mean_absolute_error: 0.5639 - val_loss: 0.5765 - val_mean_absolute_error: 0.5765\n",
      "Epoch 86/200\n",
      "371/371 [==============================] - 0s 637us/step - loss: 0.5636 - mean_absolute_error: 0.5636 - val_loss: 0.5764 - val_mean_absolute_error: 0.5764\n",
      "Epoch 87/200\n",
      "371/371 [==============================] - 0s 614us/step - loss: 0.5634 - mean_absolute_error: 0.5634 - val_loss: 0.5783 - val_mean_absolute_error: 0.5783\n",
      "Epoch 88/200\n",
      "371/371 [==============================] - 0s 612us/step - loss: 0.5634 - mean_absolute_error: 0.5634 - val_loss: 0.5756 - val_mean_absolute_error: 0.5756\n",
      "Epoch 89/200\n",
      "371/371 [==============================] - 0s 610us/step - loss: 0.5627 - mean_absolute_error: 0.5627 - val_loss: 0.5766 - val_mean_absolute_error: 0.5766\n",
      "Epoch 90/200\n",
      "371/371 [==============================] - 0s 607us/step - loss: 0.5627 - mean_absolute_error: 0.5627 - val_loss: 0.5765 - val_mean_absolute_error: 0.5765\n",
      "Epoch 91/200\n",
      "371/371 [==============================] - 0s 623us/step - loss: 0.5628 - mean_absolute_error: 0.5628 - val_loss: 0.5758 - val_mean_absolute_error: 0.5758\n",
      "Epoch 92/200\n",
      "371/371 [==============================] - 0s 598us/step - loss: 0.5619 - mean_absolute_error: 0.5619 - val_loss: 0.5737 - val_mean_absolute_error: 0.5737\n",
      "Epoch 93/200\n",
      "371/371 [==============================] - 0s 605us/step - loss: 0.5618 - mean_absolute_error: 0.5618 - val_loss: 0.5762 - val_mean_absolute_error: 0.5762\n",
      "Epoch 94/200\n",
      "371/371 [==============================] - 0s 605us/step - loss: 0.5616 - mean_absolute_error: 0.5616 - val_loss: 0.5741 - val_mean_absolute_error: 0.5741\n",
      "Epoch 95/200\n",
      "371/371 [==============================] - 0s 602us/step - loss: 0.5613 - mean_absolute_error: 0.5613 - val_loss: 0.5761 - val_mean_absolute_error: 0.5761\n",
      "Epoch 96/200\n",
      "371/371 [==============================] - 0s 605us/step - loss: 0.5609 - mean_absolute_error: 0.5609 - val_loss: 0.5742 - val_mean_absolute_error: 0.5742\n",
      "Epoch 97/200\n",
      "371/371 [==============================] - 0s 668us/step - loss: 0.5612 - mean_absolute_error: 0.5612 - val_loss: 0.5760 - val_mean_absolute_error: 0.5760\n",
      "Epoch 98/200\n",
      "371/371 [==============================] - 0s 631us/step - loss: 0.5606 - mean_absolute_error: 0.5606 - val_loss: 0.5751 - val_mean_absolute_error: 0.5751\n"
     ]
    },
    {
     "name": "stdout",
     "output_type": "stream",
     "text": [
      "Epoch 99/200\n",
      "371/371 [==============================] - 0s 659us/step - loss: 0.5603 - mean_absolute_error: 0.5603 - val_loss: 0.5748 - val_mean_absolute_error: 0.5748\n",
      "Epoch 100/200\n",
      "371/371 [==============================] - 0s 673us/step - loss: 0.5602 - mean_absolute_error: 0.5602 - val_loss: 0.5733 - val_mean_absolute_error: 0.5733\n",
      "Epoch 101/200\n",
      "371/371 [==============================] - 0s 611us/step - loss: 0.5599 - mean_absolute_error: 0.5599 - val_loss: 0.5747 - val_mean_absolute_error: 0.5747\n",
      "Epoch 102/200\n",
      "371/371 [==============================] - 0s 605us/step - loss: 0.5600 - mean_absolute_error: 0.5600 - val_loss: 0.5742 - val_mean_absolute_error: 0.5742\n",
      "Epoch 103/200\n",
      "371/371 [==============================] - 0s 620us/step - loss: 0.5594 - mean_absolute_error: 0.5594 - val_loss: 0.5750 - val_mean_absolute_error: 0.5750\n",
      "Epoch 104/200\n",
      "371/371 [==============================] - 0s 650us/step - loss: 0.5596 - mean_absolute_error: 0.5596 - val_loss: 0.5734 - val_mean_absolute_error: 0.5734\n",
      "Epoch 105/200\n",
      "371/371 [==============================] - 0s 646us/step - loss: 0.5592 - mean_absolute_error: 0.5592 - val_loss: 0.5773 - val_mean_absolute_error: 0.5773\n",
      "Epoch 106/200\n",
      "371/371 [==============================] - 0s 628us/step - loss: 0.5586 - mean_absolute_error: 0.5586 - val_loss: 0.5757 - val_mean_absolute_error: 0.5757\n",
      "Epoch 107/200\n",
      "371/371 [==============================] - 0s 607us/step - loss: 0.5589 - mean_absolute_error: 0.5589 - val_loss: 0.5740 - val_mean_absolute_error: 0.5740\n",
      "Epoch 108/200\n",
      "371/371 [==============================] - 0s 614us/step - loss: 0.5580 - mean_absolute_error: 0.5580 - val_loss: 0.5729 - val_mean_absolute_error: 0.5729\n",
      "Epoch 109/200\n",
      "371/371 [==============================] - 0s 605us/step - loss: 0.5585 - mean_absolute_error: 0.5585 - val_loss: 0.5738 - val_mean_absolute_error: 0.5738\n",
      "Epoch 110/200\n",
      "371/371 [==============================] - 0s 609us/step - loss: 0.5578 - mean_absolute_error: 0.5578 - val_loss: 0.5729 - val_mean_absolute_error: 0.5729\n",
      "Epoch 111/200\n",
      "371/371 [==============================] - 0s 612us/step - loss: 0.5575 - mean_absolute_error: 0.5575 - val_loss: 0.5752 - val_mean_absolute_error: 0.5752\n",
      "Epoch 112/200\n",
      "371/371 [==============================] - 0s 605us/step - loss: 0.5575 - mean_absolute_error: 0.5575 - val_loss: 0.5757 - val_mean_absolute_error: 0.5757\n",
      "Epoch 113/200\n",
      "371/371 [==============================] - 0s 603us/step - loss: 0.5574 - mean_absolute_error: 0.5574 - val_loss: 0.5750 - val_mean_absolute_error: 0.5750\n",
      "Epoch 114/200\n",
      "371/371 [==============================] - 0s 649us/step - loss: 0.5573 - mean_absolute_error: 0.5573 - val_loss: 0.5745 - val_mean_absolute_error: 0.5745\n",
      "Epoch 115/200\n",
      "371/371 [==============================] - 0s 622us/step - loss: 0.5570 - mean_absolute_error: 0.5570 - val_loss: 0.5721 - val_mean_absolute_error: 0.5721\n",
      "Epoch 116/200\n",
      "371/371 [==============================] - 0s 626us/step - loss: 0.5565 - mean_absolute_error: 0.5565 - val_loss: 0.5765 - val_mean_absolute_error: 0.5765\n",
      "Epoch 117/200\n",
      "371/371 [==============================] - 0s 612us/step - loss: 0.5562 - mean_absolute_error: 0.5562 - val_loss: 0.5734 - val_mean_absolute_error: 0.5734\n",
      "Epoch 118/200\n",
      "371/371 [==============================] - 0s 660us/step - loss: 0.5560 - mean_absolute_error: 0.5560 - val_loss: 0.5722 - val_mean_absolute_error: 0.5722\n",
      "Epoch 119/200\n",
      "371/371 [==============================] - 0s 615us/step - loss: 0.5559 - mean_absolute_error: 0.5559 - val_loss: 0.5748 - val_mean_absolute_error: 0.5748\n",
      "Epoch 120/200\n",
      "371/371 [==============================] - 0s 597us/step - loss: 0.5559 - mean_absolute_error: 0.5559 - val_loss: 0.5733 - val_mean_absolute_error: 0.5733\n",
      "Epoch 121/200\n",
      "371/371 [==============================] - 0s 612us/step - loss: 0.5558 - mean_absolute_error: 0.5558 - val_loss: 0.5729 - val_mean_absolute_error: 0.5729\n",
      "Epoch 122/200\n",
      "371/371 [==============================] - 0s 602us/step - loss: 0.5552 - mean_absolute_error: 0.5552 - val_loss: 0.5728 - val_mean_absolute_error: 0.5728\n",
      "Epoch 123/200\n",
      "371/371 [==============================] - 0s 602us/step - loss: 0.5553 - mean_absolute_error: 0.5553 - val_loss: 0.5742 - val_mean_absolute_error: 0.5742\n",
      "Epoch 124/200\n",
      "371/371 [==============================] - 0s 606us/step - loss: 0.5549 - mean_absolute_error: 0.5549 - val_loss: 0.5742 - val_mean_absolute_error: 0.5742\n",
      "Epoch 125/200\n",
      "371/371 [==============================] - 0s 617us/step - loss: 0.5547 - mean_absolute_error: 0.5547 - val_loss: 0.5727 - val_mean_absolute_error: 0.5727\n",
      "Epoch 126/200\n",
      "371/371 [==============================] - 0s 665us/step - loss: 0.5544 - mean_absolute_error: 0.5544 - val_loss: 0.5750 - val_mean_absolute_error: 0.5750\n",
      "Epoch 127/200\n",
      "371/371 [==============================] - 0s 608us/step - loss: 0.5546 - mean_absolute_error: 0.5546 - val_loss: 0.5723 - val_mean_absolute_error: 0.5723\n",
      "Epoch 128/200\n",
      "371/371 [==============================] - 0s 603us/step - loss: 0.5543 - mean_absolute_error: 0.5543 - val_loss: 0.5734 - val_mean_absolute_error: 0.5734\n",
      "Epoch 129/200\n",
      "371/371 [==============================] - 0s 633us/step - loss: 0.5538 - mean_absolute_error: 0.5538 - val_loss: 0.5726 - val_mean_absolute_error: 0.5726\n",
      "Epoch 130/200\n",
      "371/371 [==============================] - 0s 631us/step - loss: 0.5539 - mean_absolute_error: 0.5539 - val_loss: 0.5734 - val_mean_absolute_error: 0.5734\n",
      "Epoch 131/200\n",
      "371/371 [==============================] - 0s 647us/step - loss: 0.5536 - mean_absolute_error: 0.5536 - val_loss: 0.5724 - val_mean_absolute_error: 0.5724\n",
      "Epoch 132/200\n",
      "371/371 [==============================] - 0s 619us/step - loss: 0.5536 - mean_absolute_error: 0.5536 - val_loss: 0.5744 - val_mean_absolute_error: 0.5744\n",
      "Epoch 133/200\n",
      "371/371 [==============================] - 0s 635us/step - loss: 0.5531 - mean_absolute_error: 0.5531 - val_loss: 0.5712 - val_mean_absolute_error: 0.5712\n",
      "Epoch 134/200\n",
      "371/371 [==============================] - 0s 603us/step - loss: 0.5531 - mean_absolute_error: 0.5531 - val_loss: 0.5744 - val_mean_absolute_error: 0.5744\n",
      "Epoch 135/200\n",
      "371/371 [==============================] - 0s 618us/step - loss: 0.5527 - mean_absolute_error: 0.5527 - val_loss: 0.5721 - val_mean_absolute_error: 0.5721\n",
      "Epoch 136/200\n",
      "371/371 [==============================] - 0s 673us/step - loss: 0.5528 - mean_absolute_error: 0.5528 - val_loss: 0.5725 - val_mean_absolute_error: 0.5725\n",
      "Epoch 137/200\n",
      "371/371 [==============================] - 0s 631us/step - loss: 0.5520 - mean_absolute_error: 0.5520 - val_loss: 0.5724 - val_mean_absolute_error: 0.5724\n",
      "Epoch 138/200\n",
      "371/371 [==============================] - 0s 641us/step - loss: 0.5523 - mean_absolute_error: 0.5523 - val_loss: 0.5724 - val_mean_absolute_error: 0.5724\n",
      "Epoch 139/200\n",
      "371/371 [==============================] - 0s 678us/step - loss: 0.5523 - mean_absolute_error: 0.5523 - val_loss: 0.5723 - val_mean_absolute_error: 0.5723\n",
      "Epoch 140/200\n",
      "371/371 [==============================] - 0s 637us/step - loss: 0.5521 - mean_absolute_error: 0.5521 - val_loss: 0.5721 - val_mean_absolute_error: 0.5721\n",
      "Epoch 141/200\n",
      "371/371 [==============================] - 0s 619us/step - loss: 0.5520 - mean_absolute_error: 0.5520 - val_loss: 0.5721 - val_mean_absolute_error: 0.5721\n",
      "Epoch 142/200\n",
      "371/371 [==============================] - 0s 617us/step - loss: 0.5522 - mean_absolute_error: 0.5522 - val_loss: 0.5720 - val_mean_absolute_error: 0.5720\n",
      "Epoch 143/200\n",
      "371/371 [==============================] - 0s 615us/step - loss: 0.5514 - mean_absolute_error: 0.5514 - val_loss: 0.5730 - val_mean_absolute_error: 0.5730\n",
      "Epoch 144/200\n",
      "371/371 [==============================] - 0s 599us/step - loss: 0.5511 - mean_absolute_error: 0.5511 - val_loss: 0.5713 - val_mean_absolute_error: 0.5713\n",
      "Epoch 145/200\n",
      "371/371 [==============================] - 0s 601us/step - loss: 0.5512 - mean_absolute_error: 0.5512 - val_loss: 0.5735 - val_mean_absolute_error: 0.5735\n",
      "Epoch 146/200\n",
      "371/371 [==============================] - 0s 623us/step - loss: 0.5505 - mean_absolute_error: 0.5505 - val_loss: 0.5725 - val_mean_absolute_error: 0.5725\n",
      "Epoch 147/200\n"
     ]
    },
    {
     "name": "stdout",
     "output_type": "stream",
     "text": [
      "371/371 [==============================] - 0s 603us/step - loss: 0.5509 - mean_absolute_error: 0.5509 - val_loss: 0.5730 - val_mean_absolute_error: 0.5730\n",
      "Epoch 148/200\n",
      "371/371 [==============================] - 0s 720us/step - loss: 0.5505 - mean_absolute_error: 0.5505 - val_loss: 0.5726 - val_mean_absolute_error: 0.5726\n",
      "Epoch 149/200\n",
      "371/371 [==============================] - 0s 623us/step - loss: 0.5503 - mean_absolute_error: 0.5503 - val_loss: 0.5751 - val_mean_absolute_error: 0.5751\n",
      "Epoch 150/200\n",
      "371/371 [==============================] - 0s 606us/step - loss: 0.5503 - mean_absolute_error: 0.5503 - val_loss: 0.5727 - val_mean_absolute_error: 0.5727\n",
      "Epoch 151/200\n",
      "371/371 [==============================] - 0s 605us/step - loss: 0.5505 - mean_absolute_error: 0.5505 - val_loss: 0.5727 - val_mean_absolute_error: 0.5727\n",
      "Epoch 152/200\n",
      "371/371 [==============================] - 0s 600us/step - loss: 0.5500 - mean_absolute_error: 0.5500 - val_loss: 0.5724 - val_mean_absolute_error: 0.5724\n",
      "Epoch 153/200\n",
      "371/371 [==============================] - 0s 601us/step - loss: 0.5502 - mean_absolute_error: 0.5502 - val_loss: 0.5726 - val_mean_absolute_error: 0.5726\n",
      "Epoch 154/200\n",
      "371/371 [==============================] - 0s 603us/step - loss: 0.5502 - mean_absolute_error: 0.5502 - val_loss: 0.5730 - val_mean_absolute_error: 0.5730\n",
      "Epoch 155/200\n",
      "371/371 [==============================] - 0s 628us/step - loss: 0.5494 - mean_absolute_error: 0.5494 - val_loss: 0.5744 - val_mean_absolute_error: 0.5744\n",
      "Epoch 156/200\n",
      "371/371 [==============================] - 0s 651us/step - loss: 0.5498 - mean_absolute_error: 0.5498 - val_loss: 0.5733 - val_mean_absolute_error: 0.5733\n",
      "Epoch 157/200\n",
      "371/371 [==============================] - 0s 607us/step - loss: 0.5496 - mean_absolute_error: 0.5496 - val_loss: 0.5719 - val_mean_absolute_error: 0.5719\n",
      "Epoch 158/200\n",
      "371/371 [==============================] - 0s 642us/step - loss: 0.5494 - mean_absolute_error: 0.5494 - val_loss: 0.5728 - val_mean_absolute_error: 0.5728\n",
      "Epoch 159/200\n",
      "371/371 [==============================] - 0s 610us/step - loss: 0.5493 - mean_absolute_error: 0.5493 - val_loss: 0.5733 - val_mean_absolute_error: 0.5733\n",
      "Epoch 160/200\n",
      "371/371 [==============================] - 0s 604us/step - loss: 0.5491 - mean_absolute_error: 0.5491 - val_loss: 0.5740 - val_mean_absolute_error: 0.5740\n",
      "Epoch 161/200\n",
      "371/371 [==============================] - 0s 603us/step - loss: 0.5489 - mean_absolute_error: 0.5489 - val_loss: 0.5740 - val_mean_absolute_error: 0.5740\n",
      "Epoch 162/200\n",
      "371/371 [==============================] - 0s 601us/step - loss: 0.5486 - mean_absolute_error: 0.5486 - val_loss: 0.5745 - val_mean_absolute_error: 0.5745\n",
      "Epoch 163/200\n",
      "371/371 [==============================] - 0s 647us/step - loss: 0.5485 - mean_absolute_error: 0.5485 - val_loss: 0.5755 - val_mean_absolute_error: 0.5755\n",
      "Epoch 164/200\n",
      "371/371 [==============================] - 0s 609us/step - loss: 0.5484 - mean_absolute_error: 0.5484 - val_loss: 0.5719 - val_mean_absolute_error: 0.5719\n",
      "Epoch 165/200\n",
      "371/371 [==============================] - 0s 604us/step - loss: 0.5483 - mean_absolute_error: 0.5483 - val_loss: 0.5728 - val_mean_absolute_error: 0.5728\n",
      "Epoch 166/200\n",
      "371/371 [==============================] - 0s 600us/step - loss: 0.5483 - mean_absolute_error: 0.5483 - val_loss: 0.5701 - val_mean_absolute_error: 0.5701\n",
      "Epoch 167/200\n",
      "371/371 [==============================] - 0s 608us/step - loss: 0.5482 - mean_absolute_error: 0.5482 - val_loss: 0.5724 - val_mean_absolute_error: 0.5724\n",
      "Epoch 168/200\n",
      "371/371 [==============================] - 0s 600us/step - loss: 0.5484 - mean_absolute_error: 0.5484 - val_loss: 0.5721 - val_mean_absolute_error: 0.5721\n",
      "Epoch 169/200\n",
      "371/371 [==============================] - 0s 609us/step - loss: 0.5478 - mean_absolute_error: 0.5478 - val_loss: 0.5718 - val_mean_absolute_error: 0.5718\n",
      "Epoch 170/200\n",
      "371/371 [==============================] - 0s 607us/step - loss: 0.5477 - mean_absolute_error: 0.5477 - val_loss: 0.5738 - val_mean_absolute_error: 0.5738\n",
      "Epoch 171/200\n",
      "371/371 [==============================] - 0s 606us/step - loss: 0.5476 - mean_absolute_error: 0.5476 - val_loss: 0.5718 - val_mean_absolute_error: 0.5718\n",
      "Epoch 172/200\n",
      "371/371 [==============================] - 0s 603us/step - loss: 0.5474 - mean_absolute_error: 0.5474 - val_loss: 0.5726 - val_mean_absolute_error: 0.5726\n",
      "Epoch 173/200\n",
      "371/371 [==============================] - 0s 614us/step - loss: 0.5471 - mean_absolute_error: 0.5471 - val_loss: 0.5714 - val_mean_absolute_error: 0.5714\n",
      "Epoch 174/200\n",
      "371/371 [==============================] - 0s 651us/step - loss: 0.5475 - mean_absolute_error: 0.5475 - val_loss: 0.5719 - val_mean_absolute_error: 0.5719\n",
      "Epoch 175/200\n",
      "371/371 [==============================] - 0s 618us/step - loss: 0.5473 - mean_absolute_error: 0.5473 - val_loss: 0.5722 - val_mean_absolute_error: 0.5722\n",
      "Epoch 176/200\n",
      "371/371 [==============================] - 0s 603us/step - loss: 0.5468 - mean_absolute_error: 0.5468 - val_loss: 0.5744 - val_mean_absolute_error: 0.5744\n",
      "Epoch 177/200\n",
      "371/371 [==============================] - 0s 644us/step - loss: 0.5472 - mean_absolute_error: 0.5472 - val_loss: 0.5718 - val_mean_absolute_error: 0.5718\n",
      "Epoch 178/200\n",
      "371/371 [==============================] - 0s 610us/step - loss: 0.5466 - mean_absolute_error: 0.5466 - val_loss: 0.5717 - val_mean_absolute_error: 0.5717\n",
      "Epoch 179/200\n",
      "371/371 [==============================] - 0s 600us/step - loss: 0.5466 - mean_absolute_error: 0.5466 - val_loss: 0.5714 - val_mean_absolute_error: 0.5714\n",
      "Epoch 180/200\n",
      "371/371 [==============================] - 0s 766us/step - loss: 0.5465 - mean_absolute_error: 0.5465 - val_loss: 0.5717 - val_mean_absolute_error: 0.5717\n",
      "Epoch 181/200\n",
      "371/371 [==============================] - 0s 604us/step - loss: 0.5465 - mean_absolute_error: 0.5465 - val_loss: 0.5713 - val_mean_absolute_error: 0.5713\n",
      "Epoch 182/200\n",
      "371/371 [==============================] - 0s 604us/step - loss: 0.5457 - mean_absolute_error: 0.5457 - val_loss: 0.5771 - val_mean_absolute_error: 0.5771\n",
      "Epoch 183/200\n",
      "371/371 [==============================] - 0s 598us/step - loss: 0.5462 - mean_absolute_error: 0.5462 - val_loss: 0.5706 - val_mean_absolute_error: 0.5706\n",
      "Epoch 184/200\n",
      "371/371 [==============================] - 0s 594us/step - loss: 0.5461 - mean_absolute_error: 0.5461 - val_loss: 0.5712 - val_mean_absolute_error: 0.5712\n",
      "Epoch 185/200\n",
      "371/371 [==============================] - 0s 573us/step - loss: 0.5457 - mean_absolute_error: 0.5457 - val_loss: 0.5728 - val_mean_absolute_error: 0.5728\n",
      "Epoch 186/200\n",
      "371/371 [==============================] - 0s 511us/step - loss: 0.5456 - mean_absolute_error: 0.5456 - val_loss: 0.5727 - val_mean_absolute_error: 0.5727\n",
      "Epoch 187/200\n",
      "371/371 [==============================] - 0s 510us/step - loss: 0.5458 - mean_absolute_error: 0.5458 - val_loss: 0.5732 - val_mean_absolute_error: 0.5732\n",
      "Epoch 188/200\n",
      "371/371 [==============================] - 0s 608us/step - loss: 0.5456 - mean_absolute_error: 0.5456 - val_loss: 0.5713 - val_mean_absolute_error: 0.5713\n",
      "Epoch 189/200\n",
      "371/371 [==============================] - 0s 534us/step - loss: 0.5452 - mean_absolute_error: 0.5452 - val_loss: 0.5715 - val_mean_absolute_error: 0.5715\n",
      "Epoch 190/200\n",
      "371/371 [==============================] - 0s 550us/step - loss: 0.5451 - mean_absolute_error: 0.5451 - val_loss: 0.5727 - val_mean_absolute_error: 0.5727\n",
      "Epoch 191/200\n",
      "371/371 [==============================] - 0s 637us/step - loss: 0.5450 - mean_absolute_error: 0.5450 - val_loss: 0.5722 - val_mean_absolute_error: 0.5722\n",
      "Epoch 192/200\n",
      "371/371 [==============================] - 0s 564us/step - loss: 0.5451 - mean_absolute_error: 0.5451 - val_loss: 0.5708 - val_mean_absolute_error: 0.5708\n",
      "Epoch 193/200\n",
      "371/371 [==============================] - 0s 566us/step - loss: 0.5452 - mean_absolute_error: 0.5452 - val_loss: 0.5725 - val_mean_absolute_error: 0.5725\n",
      "Epoch 194/200\n",
      "371/371 [==============================] - 0s 545us/step - loss: 0.5446 - mean_absolute_error: 0.5446 - val_loss: 0.5708 - val_mean_absolute_error: 0.5708\n",
      "Epoch 195/200\n"
     ]
    },
    {
     "name": "stdout",
     "output_type": "stream",
     "text": [
      "371/371 [==============================] - 0s 533us/step - loss: 0.5447 - mean_absolute_error: 0.5447 - val_loss: 0.5737 - val_mean_absolute_error: 0.5737\n",
      "Epoch 196/200\n",
      "371/371 [==============================] - 0s 518us/step - loss: 0.5448 - mean_absolute_error: 0.5448 - val_loss: 0.5701 - val_mean_absolute_error: 0.5701\n",
      "Epoch 197/200\n",
      "371/371 [==============================] - 0s 513us/step - loss: 0.5444 - mean_absolute_error: 0.5444 - val_loss: 0.5711 - val_mean_absolute_error: 0.5711\n",
      "Epoch 198/200\n",
      "371/371 [==============================] - 0s 532us/step - loss: 0.5445 - mean_absolute_error: 0.5445 - val_loss: 0.5728 - val_mean_absolute_error: 0.5728\n",
      "Epoch 199/200\n",
      "371/371 [==============================] - 0s 517us/step - loss: 0.5442 - mean_absolute_error: 0.5442 - val_loss: 0.5705 - val_mean_absolute_error: 0.5705\n",
      "Epoch 200/200\n",
      "371/371 [==============================] - 0s 585us/step - loss: 0.5442 - mean_absolute_error: 0.5442 - val_loss: 0.5698 - val_mean_absolute_error: 0.5698\n"
     ]
    }
   ],
   "source": [
    "print(\"Fit model on training data\")\n",
    "history = model.fit(\n",
    "    X_train,\n",
    "    Y_train,\n",
    "    batch_size=64,\n",
    "    epochs=200,\n",
    "    # We pass some validation for\n",
    "    # monitoring validation loss and metrics\n",
    "    # at the end of each epoch\n",
    "    validation_data=(X_test, Y_test),\n",
    ")"
   ]
  },
  {
   "cell_type": "code",
   "execution_count": 24,
   "id": "20e32481",
   "metadata": {},
   "outputs": [
    {
     "name": "stdout",
     "output_type": "stream",
     "text": [
      "742/742 [==============================] - 0s 311us/step\n"
     ]
    },
    {
     "data": {
      "text/plain": [
       "0.5412868607844716"
      ]
     },
     "execution_count": 24,
     "metadata": {},
     "output_type": "execute_result"
    }
   ],
   "source": [
    "mean_absolute_error(Y_train, model.predict(X_train))"
   ]
  },
  {
   "cell_type": "code",
   "execution_count": 25,
   "id": "030a89bc",
   "metadata": {},
   "outputs": [
    {
     "name": "stdout",
     "output_type": "stream",
     "text": [
      "186/186 [==============================] - 0s 306us/step\n"
     ]
    },
    {
     "data": {
      "text/plain": [
       "0.5698212470333661"
      ]
     },
     "execution_count": 25,
     "metadata": {},
     "output_type": "execute_result"
    }
   ],
   "source": [
    "mean_absolute_error(Y_test, model.predict(X_test))"
   ]
  }
 ],
 "metadata": {
  "kernelspec": {
   "display_name": "Python 3 (ipykernel)",
   "language": "python",
   "name": "python3"
  },
  "language_info": {
   "codemirror_mode": {
    "name": "ipython",
    "version": 3
   },
   "file_extension": ".py",
   "mimetype": "text/x-python",
   "name": "python",
   "nbconvert_exporter": "python",
   "pygments_lexer": "ipython3",
   "version": "3.10.6"
  }
 },
 "nbformat": 4,
 "nbformat_minor": 5
}
