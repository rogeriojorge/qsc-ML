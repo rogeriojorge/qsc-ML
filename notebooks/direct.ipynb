{
 "cells": [
  {
   "cell_type": "code",
   "execution_count": 1,
   "id": "b50697e3",
   "metadata": {},
   "outputs": [],
   "source": [
    "import pandas as pd\n",
    "\n",
    "from sklearn.model_selection import train_test_split\n",
    "\n",
    "from sklearn.preprocessing import StandardScaler\n",
    "\n",
    "from keras.optimizers import Adam\n",
    "\n",
    "from sklearn.multioutput import MultiOutputRegressor\n",
    "from sklearn.linear_model import Ridge\n",
    "\n",
    "from sklearn.metrics import mean_absolute_error"
   ]
  },
  {
   "cell_type": "code",
   "execution_count": 2,
   "id": "30346186",
   "metadata": {},
   "outputs": [],
   "source": [
    "params = {\n",
    "    'epochs': 200,\n",
    "    'test_size': 0.2,\n",
    "    'random_state': 1337,\n",
    "    'validation_split': 0.2\n",
    "}"
   ]
  },
  {
   "cell_type": "code",
   "execution_count": 3,
   "id": "6776a886",
   "metadata": {},
   "outputs": [],
   "source": [
    "df = pd.read_csv(\"../data/qsc_out.random_scan_nfp2.csv\")"
   ]
  },
  {
   "cell_type": "code",
   "execution_count": 4,
   "id": "3599d370",
   "metadata": {},
   "outputs": [
    {
     "data": {
      "text/html": [
       "<div>\n",
       "<style scoped>\n",
       "    .dataframe tbody tr th:only-of-type {\n",
       "        vertical-align: middle;\n",
       "    }\n",
       "\n",
       "    .dataframe tbody tr th {\n",
       "        vertical-align: top;\n",
       "    }\n",
       "\n",
       "    .dataframe thead th {\n",
       "        text-align: right;\n",
       "    }\n",
       "</style>\n",
       "<table border=\"1\" class=\"dataframe\">\n",
       "  <thead>\n",
       "    <tr style=\"text-align: right;\">\n",
       "      <th></th>\n",
       "      <th>x1</th>\n",
       "      <th>x2</th>\n",
       "      <th>x3</th>\n",
       "      <th>x4</th>\n",
       "      <th>x5</th>\n",
       "      <th>x6</th>\n",
       "      <th>x7</th>\n",
       "      <th>x8</th>\n",
       "      <th>y0</th>\n",
       "      <th>y1</th>\n",
       "      <th>y2</th>\n",
       "      <th>y3</th>\n",
       "      <th>y4</th>\n",
       "      <th>y5</th>\n",
       "      <th>y6</th>\n",
       "    </tr>\n",
       "  </thead>\n",
       "  <tbody>\n",
       "    <tr>\n",
       "      <th>0</th>\n",
       "      <td>-0.104856</td>\n",
       "      <td>0.197790</td>\n",
       "      <td>0.001260</td>\n",
       "      <td>-0.011792</td>\n",
       "      <td>0.000794</td>\n",
       "      <td>0.000120</td>\n",
       "      <td>-0.687180</td>\n",
       "      <td>-0.215177</td>\n",
       "      <td>0.948834</td>\n",
       "      <td>0.264545</td>\n",
       "      <td>0.404154</td>\n",
       "      <td>0.631039</td>\n",
       "      <td>0.898928</td>\n",
       "      <td>1.581192</td>\n",
       "      <td>0.334374</td>\n",
       "    </tr>\n",
       "    <tr>\n",
       "      <th>1</th>\n",
       "      <td>-0.110385</td>\n",
       "      <td>0.188144</td>\n",
       "      <td>0.001381</td>\n",
       "      <td>-0.011358</td>\n",
       "      <td>0.000855</td>\n",
       "      <td>0.000138</td>\n",
       "      <td>-0.658897</td>\n",
       "      <td>-0.233486</td>\n",
       "      <td>0.930837</td>\n",
       "      <td>0.298531</td>\n",
       "      <td>0.469811</td>\n",
       "      <td>0.639501</td>\n",
       "      <td>0.876879</td>\n",
       "      <td>1.568947</td>\n",
       "      <td>0.336379</td>\n",
       "    </tr>\n",
       "    <tr>\n",
       "      <th>2</th>\n",
       "      <td>-0.095042</td>\n",
       "      <td>0.132051</td>\n",
       "      <td>0.000675</td>\n",
       "      <td>-0.008909</td>\n",
       "      <td>0.000477</td>\n",
       "      <td>0.000348</td>\n",
       "      <td>-0.671871</td>\n",
       "      <td>-0.944641</td>\n",
       "      <td>1.526347</td>\n",
       "      <td>0.385624</td>\n",
       "      <td>0.334515</td>\n",
       "      <td>0.468280</td>\n",
       "      <td>0.804239</td>\n",
       "      <td>1.288313</td>\n",
       "      <td>0.331086</td>\n",
       "    </tr>\n",
       "    <tr>\n",
       "      <th>3</th>\n",
       "      <td>-0.115912</td>\n",
       "      <td>-0.207162</td>\n",
       "      <td>0.001411</td>\n",
       "      <td>0.012060</td>\n",
       "      <td>0.000871</td>\n",
       "      <td>-0.000108</td>\n",
       "      <td>-0.736734</td>\n",
       "      <td>0.012462</td>\n",
       "      <td>0.783335</td>\n",
       "      <td>0.278748</td>\n",
       "      <td>0.497138</td>\n",
       "      <td>0.645087</td>\n",
       "      <td>0.926717</td>\n",
       "      <td>1.717088</td>\n",
       "      <td>0.338459</td>\n",
       "    </tr>\n",
       "    <tr>\n",
       "      <th>4</th>\n",
       "      <td>-0.096390</td>\n",
       "      <td>-0.217079</td>\n",
       "      <td>0.000933</td>\n",
       "      <td>0.010517</td>\n",
       "      <td>0.000621</td>\n",
       "      <td>-0.000126</td>\n",
       "      <td>-0.764525</td>\n",
       "      <td>-0.048433</td>\n",
       "      <td>0.925351</td>\n",
       "      <td>0.272636</td>\n",
       "      <td>0.548743</td>\n",
       "      <td>0.631384</td>\n",
       "      <td>0.941509</td>\n",
       "      <td>1.549327</td>\n",
       "      <td>0.331432</td>\n",
       "    </tr>\n",
       "  </tbody>\n",
       "</table>\n",
       "</div>"
      ],
      "text/plain": [
       "         x1        x2        x3        x4        x5        x6        x7   \n",
       "0 -0.104856  0.197790  0.001260 -0.011792  0.000794  0.000120 -0.687180  \\\n",
       "1 -0.110385  0.188144  0.001381 -0.011358  0.000855  0.000138 -0.658897   \n",
       "2 -0.095042  0.132051  0.000675 -0.008909  0.000477  0.000348 -0.671871   \n",
       "3 -0.115912 -0.207162  0.001411  0.012060  0.000871 -0.000108 -0.736734   \n",
       "4 -0.096390 -0.217079  0.000933  0.010517  0.000621 -0.000126 -0.764525   \n",
       "\n",
       "         x8        y0        y1        y2        y3        y4        y5   \n",
       "0 -0.215177  0.948834  0.264545  0.404154  0.631039  0.898928  1.581192  \\\n",
       "1 -0.233486  0.930837  0.298531  0.469811  0.639501  0.876879  1.568947   \n",
       "2 -0.944641  1.526347  0.385624  0.334515  0.468280  0.804239  1.288313   \n",
       "3  0.012462  0.783335  0.278748  0.497138  0.645087  0.926717  1.717088   \n",
       "4 -0.048433  0.925351  0.272636  0.548743  0.631384  0.941509  1.549327   \n",
       "\n",
       "         y6  \n",
       "0  0.334374  \n",
       "1  0.336379  \n",
       "2  0.331086  \n",
       "3  0.338459  \n",
       "4  0.331432  "
      ]
     },
     "execution_count": 4,
     "metadata": {},
     "output_type": "execute_result"
    }
   ],
   "source": [
    "df.head()"
   ]
  },
  {
   "cell_type": "code",
   "execution_count": 5,
   "id": "ed54624a",
   "metadata": {},
   "outputs": [
    {
     "data": {
      "text/plain": [
       "(29674, 15)"
      ]
     },
     "execution_count": 5,
     "metadata": {},
     "output_type": "execute_result"
    }
   ],
   "source": [
    "df.shape"
   ]
  },
  {
   "cell_type": "code",
   "execution_count": 6,
   "id": "0ae249e2",
   "metadata": {},
   "outputs": [],
   "source": [
    "x_columns = [col for col in df.columns if col.startswith('x')]\n",
    "y_columns = [col for col in df.columns if col.startswith('y')]\n",
    "\n",
    "Y = df[y_columns].values\n",
    "X = df[x_columns].values"
   ]
  },
  {
   "cell_type": "code",
   "execution_count": 7,
   "id": "064de500",
   "metadata": {},
   "outputs": [],
   "source": [
    "def preprocess_data(X_train, X_test, Y_train, Y_test, params):\n",
    "    scaler_x = StandardScaler().fit(X_train)\n",
    "    scaler_y = StandardScaler().fit(Y_train)\n",
    "    X_train = scaler_x.transform(X_train)\n",
    "    X_test = scaler_x.transform(X_test)\n",
    "    Y_train = scaler_y.transform(Y_train)\n",
    "    Y_test = scaler_y.transform(Y_test)\n",
    "\n",
    "    input_shape = X_train.shape[1]\n",
    "    \n",
    "    output_shape = Y_train.shape[1]\n",
    "    return X_train, X_test, Y_train, Y_test, input_shape, output_shape, scaler_x, scaler_y\n",
    "\n",
    "X_train, X_test, Y_train, Y_test = train_test_split(X, Y, test_size=params['test_size'], \n",
    "                                                    random_state=params['random_state'])\n",
    "\n",
    "X_train, X_test, Y_train, Y_test, input_shape, output_shape, scaler_x, scaler_y = preprocess_data(X_train, X_test, Y_train, Y_test, params)"
   ]
  },
  {
   "cell_type": "code",
   "execution_count": 8,
   "id": "a10ed4fe",
   "metadata": {},
   "outputs": [
    {
     "data": {
      "text/plain": [
       "(array([-1.86603895e-17, -2.39778990e-17, -4.12750044e-17, -8.97978632e-17,\n",
       "         1.45237693e-17,  4.88584184e-17, -7.02959790e-15, -1.74744727e-15]),\n",
       " array([1., 1., 1., 1., 1., 1., 1., 1.]))"
      ]
     },
     "execution_count": 8,
     "metadata": {},
     "output_type": "execute_result"
    }
   ],
   "source": [
    "X_train.mean(axis=0), X_train.std(axis=0) "
   ]
  },
  {
   "cell_type": "markdown",
   "id": "d4ccb03a",
   "metadata": {},
   "source": [
    "## Appears to be drift, perhaps the sample is not big enough"
   ]
  },
  {
   "cell_type": "code",
   "execution_count": 9,
   "id": "c161da77",
   "metadata": {},
   "outputs": [
    {
     "data": {
      "text/plain": [
       "(array([ 0.01621399, -0.00112999,  0.01755134,  0.01955565,  0.01673425,\n",
       "         0.00871709, -0.01095845, -0.02030808]),\n",
       " array([0.99488322, 0.99650294, 0.78686316, 0.96749519, 0.93053514,\n",
       "        0.90833692, 1.01170468, 1.00410648]))"
      ]
     },
     "execution_count": 9,
     "metadata": {},
     "output_type": "execute_result"
    }
   ],
   "source": [
    "X_test.mean(axis=0), X_test.std(axis=0) "
   ]
  },
  {
   "cell_type": "code",
   "execution_count": 10,
   "id": "53e58115",
   "metadata": {},
   "outputs": [
    {
     "data": {
      "text/plain": [
       "(array([-1.23324421e-14,  2.75938148e-14, -7.59591967e-15, -1.74703992e-14,\n",
       "        -3.12392412e-14, -5.68256506e-14, -1.97065971e-13]),\n",
       " array([1., 1., 1., 1., 1., 1., 1.]))"
      ]
     },
     "execution_count": 10,
     "metadata": {},
     "output_type": "execute_result"
    }
   ],
   "source": [
    "Y_train.mean(axis=0), Y_train.std(axis=0) "
   ]
  },
  {
   "cell_type": "code",
   "execution_count": 11,
   "id": "2baf62f6",
   "metadata": {},
   "outputs": [
    {
     "data": {
      "text/plain": [
       "(array([ 0.002863  ,  0.0093879 , -0.00576779, -0.01150026, -0.01160122,\n",
       "        -0.01466698, -0.0055547 ]),\n",
       " array([1.00800321, 1.00616058, 1.0009353 , 0.99290648, 0.99481008,\n",
       "        1.00920012, 0.71155792]))"
      ]
     },
     "execution_count": 11,
     "metadata": {},
     "output_type": "execute_result"
    }
   ],
   "source": [
    "Y_test.mean(axis=0), Y_test.std(axis=0)"
   ]
  },
  {
   "cell_type": "markdown",
   "id": "bcdca24f",
   "metadata": {},
   "source": [
    "## Dummy regressor"
   ]
  },
  {
   "cell_type": "code",
   "execution_count": 12,
   "id": "a74f6265",
   "metadata": {},
   "outputs": [],
   "source": [
    "from sklearn.dummy import DummyRegressor"
   ]
  },
  {
   "cell_type": "code",
   "execution_count": 13,
   "id": "d32b7301",
   "metadata": {},
   "outputs": [
    {
     "data": {
      "text/plain": [
       "array([[-1.23299623e-14,  2.76159547e-14, -7.59899700e-15, ...,\n",
       "        -3.12143139e-14, -5.68119908e-14, -1.97071672e-13],\n",
       "       [-1.23299623e-14,  2.76159547e-14, -7.59899700e-15, ...,\n",
       "        -3.12143139e-14, -5.68119908e-14, -1.97071672e-13],\n",
       "       [-1.23299623e-14,  2.76159547e-14, -7.59899700e-15, ...,\n",
       "        -3.12143139e-14, -5.68119908e-14, -1.97071672e-13],\n",
       "       ...,\n",
       "       [-1.23299623e-14,  2.76159547e-14, -7.59899700e-15, ...,\n",
       "        -3.12143139e-14, -5.68119908e-14, -1.97071672e-13],\n",
       "       [-1.23299623e-14,  2.76159547e-14, -7.59899700e-15, ...,\n",
       "        -3.12143139e-14, -5.68119908e-14, -1.97071672e-13],\n",
       "       [-1.23299623e-14,  2.76159547e-14, -7.59899700e-15, ...,\n",
       "        -3.12143139e-14, -5.68119908e-14, -1.97071672e-13]])"
      ]
     },
     "execution_count": 13,
     "metadata": {},
     "output_type": "execute_result"
    }
   ],
   "source": [
    "regr = MultiOutputRegressor(DummyRegressor(strategy=\"mean\")).fit(X_train, Y_train)\n",
    "regr.predict(X_train)"
   ]
  },
  {
   "cell_type": "code",
   "execution_count": 14,
   "id": "e960bbe7",
   "metadata": {},
   "outputs": [
    {
     "data": {
      "text/plain": [
       "0.7819301538758372"
      ]
     },
     "execution_count": 14,
     "metadata": {},
     "output_type": "execute_result"
    }
   ],
   "source": [
    "mean_absolute_error(Y_train, regr.predict(X_train))"
   ]
  },
  {
   "cell_type": "code",
   "execution_count": 15,
   "id": "b5fa73bf",
   "metadata": {},
   "outputs": [
    {
     "data": {
      "text/plain": [
       "0.7826444903716244"
      ]
     },
     "execution_count": 15,
     "metadata": {},
     "output_type": "execute_result"
    }
   ],
   "source": [
    "mean_absolute_error(Y_test, regr.predict(X_test))"
   ]
  },
  {
   "cell_type": "markdown",
   "id": "181ac703",
   "metadata": {},
   "source": [
    "## Train a linear regression for debugging"
   ]
  },
  {
   "cell_type": "code",
   "execution_count": 16,
   "id": "fb67a16f",
   "metadata": {},
   "outputs": [
    {
     "data": {
      "text/plain": [
       "array([[-0.01118562, -0.25258042, -0.07693146, ...,  0.15934534,\n",
       "         0.02889025, -0.02566576],\n",
       "       [ 0.33075672,  0.74101837,  0.27335388, ..., -0.3718137 ,\n",
       "        -0.14318812, -0.4488022 ],\n",
       "       [-0.22386175, -0.38369246, -0.11028056, ...,  0.22433786,\n",
       "         0.10529634,  0.09333019],\n",
       "       ...,\n",
       "       [ 0.01024576, -0.05781049, -0.02785113, ..., -0.06734454,\n",
       "        -0.04966926,  0.16428362],\n",
       "       [-0.09533647, -0.20393649, -0.04846468, ...,  0.42137434,\n",
       "         0.14091655,  1.00339397],\n",
       "       [-0.10952675, -0.16497835, -0.03597803, ...,  0.16906614,\n",
       "         0.06585663,  0.100133  ]])"
      ]
     },
     "execution_count": 16,
     "metadata": {},
     "output_type": "execute_result"
    }
   ],
   "source": [
    "regr = MultiOutputRegressor(Ridge(random_state=123)).fit(X_train, Y_train)\n",
    "regr.predict(X_train)"
   ]
  },
  {
   "cell_type": "code",
   "execution_count": 17,
   "id": "4f8b7880",
   "metadata": {},
   "outputs": [
    {
     "data": {
      "text/plain": [
       "0.7420778534372884"
      ]
     },
     "execution_count": 17,
     "metadata": {},
     "output_type": "execute_result"
    }
   ],
   "source": [
    "mean_absolute_error(Y_train, regr.predict(X_train))"
   ]
  },
  {
   "cell_type": "code",
   "execution_count": 18,
   "id": "93fe236e",
   "metadata": {},
   "outputs": [
    {
     "data": {
      "text/plain": [
       "0.7453412087802475"
      ]
     },
     "execution_count": 18,
     "metadata": {},
     "output_type": "execute_result"
    }
   ],
   "source": [
    "mean_absolute_error(Y_test, regr.predict(X_test))"
   ]
  },
  {
   "cell_type": "markdown",
   "id": "909b3bd7",
   "metadata": {},
   "source": [
    "## Simplest neural network"
   ]
  },
  {
   "cell_type": "code",
   "execution_count": 19,
   "id": "606b1b4b",
   "metadata": {},
   "outputs": [],
   "source": [
    "import tensorflow as tf\n",
    "from tensorflow import keras\n",
    "from tensorflow.keras import layers"
   ]
  },
  {
   "cell_type": "code",
   "execution_count": 20,
   "id": "43d73ed0",
   "metadata": {},
   "outputs": [
    {
     "data": {
      "text/plain": [
       "<tf.Tensor: shape=(1, 7), dtype=float32, numpy=\n",
       "array([[ 0.14221711,  0.10756896, -0.03302422, -0.06281132,  0.13048202,\n",
       "        -0.09029931,  0.06472876]], dtype=float32)>"
      ]
     },
     "execution_count": 20,
     "metadata": {},
     "output_type": "execute_result"
    }
   ],
   "source": [
    "# Define Sequential model with 3 layers\n",
    "model = keras.Sequential(\n",
    "    [\n",
    "        layers.Dense(input_shape, activation=\"relu\", name=\"layer_in\"),\n",
    "        layers.Dense(128, activation=\"relu\", name=\"layer2\"),\n",
    "        layers.Dense(64, activation=\"relu\", name=\"layer3\"),\n",
    "        layers.Dense(output_shape, name=\"layer_out\"),\n",
    "    ]\n",
    ")\n",
    "\n",
    "model(X_train[0:1])"
   ]
  },
  {
   "cell_type": "code",
   "execution_count": 21,
   "id": "8d43388b",
   "metadata": {},
   "outputs": [
    {
     "name": "stdout",
     "output_type": "stream",
     "text": [
      "Model: \"sequential\"\n",
      "_________________________________________________________________\n",
      " Layer (type)                Output Shape              Param #   \n",
      "=================================================================\n",
      " layer_in (Dense)            (1, 8)                    72        \n",
      "                                                                 \n",
      " layer2 (Dense)              (1, 128)                  1152      \n",
      "                                                                 \n",
      " layer3 (Dense)              (1, 64)                   8256      \n",
      "                                                                 \n",
      " layer_out (Dense)           (1, 7)                    455       \n",
      "                                                                 \n",
      "=================================================================\n",
      "Total params: 9935 (38.81 KB)\n",
      "Trainable params: 9935 (38.81 KB)\n",
      "Non-trainable params: 0 (0.00 Byte)\n",
      "_________________________________________________________________\n"
     ]
    }
   ],
   "source": [
    "model.summary()"
   ]
  },
  {
   "cell_type": "code",
   "execution_count": 22,
   "id": "67a8182d",
   "metadata": {},
   "outputs": [
    {
     "name": "stderr",
     "output_type": "stream",
     "text": [
      "WARNING:absl:At this time, the v2.11+ optimizer `tf.keras.optimizers.RMSprop` runs slowly on M1/M2 Macs, please use the legacy Keras optimizer instead, located at `tf.keras.optimizers.legacy.RMSprop`.\n",
      "WARNING:absl:There is a known slowdown when using v2.11+ Keras optimizers on M1/M2 Macs. Falling back to the legacy Keras optimizer, i.e., `tf.keras.optimizers.legacy.RMSprop`.\n"
     ]
    }
   ],
   "source": [
    "model.compile(\n",
    "    optimizer=keras.optimizers.RMSprop(),  # Optimizer\n",
    "    # Loss function to minimize\n",
    "    loss=keras.losses.MeanAbsoluteError(),\n",
    "    # List of metrics to monitor\n",
    "    metrics=[keras.metrics.MeanAbsoluteError()],\n",
    ")"
   ]
  },
  {
   "cell_type": "code",
   "execution_count": 23,
   "id": "b11ea593",
   "metadata": {},
   "outputs": [
    {
     "name": "stdout",
     "output_type": "stream",
     "text": [
      "Fit model on training data\n",
      "Epoch 1/200\n",
      "371/371 [==============================] - 0s 742us/step - loss: 0.6695 - mean_absolute_error: 0.6695 - val_loss: 0.6094 - val_mean_absolute_error: 0.6094\n",
      "Epoch 2/200\n",
      "371/371 [==============================] - 1s 2ms/step - loss: 0.5678 - mean_absolute_error: 0.5678 - val_loss: 0.5269 - val_mean_absolute_error: 0.5269\n",
      "Epoch 3/200\n",
      "371/371 [==============================] - 0s 570us/step - loss: 0.5007 - mean_absolute_error: 0.5007 - val_loss: 0.4762 - val_mean_absolute_error: 0.4762\n",
      "Epoch 4/200\n",
      "371/371 [==============================] - 0s 572us/step - loss: 0.4581 - mean_absolute_error: 0.4581 - val_loss: 0.4402 - val_mean_absolute_error: 0.4402\n",
      "Epoch 5/200\n",
      "371/371 [==============================] - 0s 570us/step - loss: 0.4309 - mean_absolute_error: 0.4309 - val_loss: 0.4239 - val_mean_absolute_error: 0.4239\n",
      "Epoch 6/200\n",
      "371/371 [==============================] - 0s 567us/step - loss: 0.4120 - mean_absolute_error: 0.4120 - val_loss: 0.3926 - val_mean_absolute_error: 0.3926\n",
      "Epoch 7/200\n",
      "371/371 [==============================] - 0s 578us/step - loss: 0.3958 - mean_absolute_error: 0.3958 - val_loss: 0.3758 - val_mean_absolute_error: 0.3758\n",
      "Epoch 8/200\n",
      "371/371 [==============================] - 0s 591us/step - loss: 0.3804 - mean_absolute_error: 0.3804 - val_loss: 0.3871 - val_mean_absolute_error: 0.3871\n",
      "Epoch 9/200\n",
      "371/371 [==============================] - 0s 563us/step - loss: 0.3682 - mean_absolute_error: 0.3682 - val_loss: 0.3552 - val_mean_absolute_error: 0.3552\n",
      "Epoch 10/200\n",
      "371/371 [==============================] - 0s 554us/step - loss: 0.3549 - mean_absolute_error: 0.3549 - val_loss: 0.3494 - val_mean_absolute_error: 0.3494\n",
      "Epoch 11/200\n",
      "371/371 [==============================] - 0s 578us/step - loss: 0.3441 - mean_absolute_error: 0.3441 - val_loss: 0.3420 - val_mean_absolute_error: 0.3420\n",
      "Epoch 12/200\n",
      "371/371 [==============================] - 0s 1ms/step - loss: 0.3343 - mean_absolute_error: 0.3343 - val_loss: 0.3283 - val_mean_absolute_error: 0.3283\n",
      "Epoch 13/200\n",
      "371/371 [==============================] - 0s 637us/step - loss: 0.3242 - mean_absolute_error: 0.3242 - val_loss: 0.3404 - val_mean_absolute_error: 0.3404\n",
      "Epoch 14/200\n",
      "371/371 [==============================] - 0s 602us/step - loss: 0.3158 - mean_absolute_error: 0.3158 - val_loss: 0.3037 - val_mean_absolute_error: 0.3037\n",
      "Epoch 15/200\n",
      "371/371 [==============================] - 0s 593us/step - loss: 0.3077 - mean_absolute_error: 0.3077 - val_loss: 0.2936 - val_mean_absolute_error: 0.2936\n",
      "Epoch 16/200\n",
      "371/371 [==============================] - 0s 591us/step - loss: 0.3009 - mean_absolute_error: 0.3009 - val_loss: 0.2928 - val_mean_absolute_error: 0.2928\n",
      "Epoch 17/200\n",
      "371/371 [==============================] - 0s 591us/step - loss: 0.2941 - mean_absolute_error: 0.2941 - val_loss: 0.2889 - val_mean_absolute_error: 0.2889\n",
      "Epoch 18/200\n",
      "371/371 [==============================] - 0s 592us/step - loss: 0.2879 - mean_absolute_error: 0.2879 - val_loss: 0.2805 - val_mean_absolute_error: 0.2805\n",
      "Epoch 19/200\n",
      "371/371 [==============================] - 0s 598us/step - loss: 0.2825 - mean_absolute_error: 0.2825 - val_loss: 0.2736 - val_mean_absolute_error: 0.2736\n",
      "Epoch 20/200\n",
      "371/371 [==============================] - 0s 595us/step - loss: 0.2768 - mean_absolute_error: 0.2768 - val_loss: 0.2821 - val_mean_absolute_error: 0.2821\n",
      "Epoch 21/200\n",
      "371/371 [==============================] - 0s 594us/step - loss: 0.2725 - mean_absolute_error: 0.2725 - val_loss: 0.2784 - val_mean_absolute_error: 0.2784\n",
      "Epoch 22/200\n",
      "371/371 [==============================] - 0s 591us/step - loss: 0.2677 - mean_absolute_error: 0.2677 - val_loss: 0.2472 - val_mean_absolute_error: 0.2472\n",
      "Epoch 23/200\n",
      "371/371 [==============================] - 0s 596us/step - loss: 0.2637 - mean_absolute_error: 0.2637 - val_loss: 0.2642 - val_mean_absolute_error: 0.2642\n",
      "Epoch 24/200\n",
      "371/371 [==============================] - 0s 588us/step - loss: 0.2596 - mean_absolute_error: 0.2596 - val_loss: 0.2505 - val_mean_absolute_error: 0.2505\n",
      "Epoch 25/200\n",
      "371/371 [==============================] - 0s 592us/step - loss: 0.2562 - mean_absolute_error: 0.2562 - val_loss: 0.2607 - val_mean_absolute_error: 0.2607\n",
      "Epoch 26/200\n",
      "371/371 [==============================] - 0s 593us/step - loss: 0.2538 - mean_absolute_error: 0.2538 - val_loss: 0.2543 - val_mean_absolute_error: 0.2543\n",
      "Epoch 27/200\n",
      "371/371 [==============================] - 0s 609us/step - loss: 0.2505 - mean_absolute_error: 0.2505 - val_loss: 0.2334 - val_mean_absolute_error: 0.2334\n",
      "Epoch 28/200\n",
      "371/371 [==============================] - 0s 591us/step - loss: 0.2481 - mean_absolute_error: 0.2481 - val_loss: 0.2405 - val_mean_absolute_error: 0.2405\n",
      "Epoch 29/200\n",
      "371/371 [==============================] - 0s 589us/step - loss: 0.2453 - mean_absolute_error: 0.2453 - val_loss: 0.2508 - val_mean_absolute_error: 0.2508\n",
      "Epoch 30/200\n",
      "371/371 [==============================] - 0s 599us/step - loss: 0.2430 - mean_absolute_error: 0.2430 - val_loss: 0.2321 - val_mean_absolute_error: 0.2321\n",
      "Epoch 31/200\n",
      "371/371 [==============================] - 0s 595us/step - loss: 0.2407 - mean_absolute_error: 0.2407 - val_loss: 0.2335 - val_mean_absolute_error: 0.2335\n",
      "Epoch 32/200\n",
      "371/371 [==============================] - 0s 612us/step - loss: 0.2385 - mean_absolute_error: 0.2385 - val_loss: 0.2362 - val_mean_absolute_error: 0.2362\n",
      "Epoch 33/200\n",
      "371/371 [==============================] - 0s 593us/step - loss: 0.2367 - mean_absolute_error: 0.2367 - val_loss: 0.2578 - val_mean_absolute_error: 0.2578\n",
      "Epoch 34/200\n",
      "371/371 [==============================] - 0s 593us/step - loss: 0.2345 - mean_absolute_error: 0.2345 - val_loss: 0.2286 - val_mean_absolute_error: 0.2286\n",
      "Epoch 35/200\n",
      "371/371 [==============================] - 0s 592us/step - loss: 0.2332 - mean_absolute_error: 0.2332 - val_loss: 0.2319 - val_mean_absolute_error: 0.2319\n",
      "Epoch 36/200\n",
      "371/371 [==============================] - 0s 588us/step - loss: 0.2316 - mean_absolute_error: 0.2316 - val_loss: 0.2318 - val_mean_absolute_error: 0.2318\n",
      "Epoch 37/200\n",
      "371/371 [==============================] - 0s 591us/step - loss: 0.2298 - mean_absolute_error: 0.2298 - val_loss: 0.2151 - val_mean_absolute_error: 0.2151\n",
      "Epoch 38/200\n",
      "371/371 [==============================] - 0s 592us/step - loss: 0.2286 - mean_absolute_error: 0.2286 - val_loss: 0.2187 - val_mean_absolute_error: 0.2187\n",
      "Epoch 39/200\n",
      "371/371 [==============================] - 0s 590us/step - loss: 0.2270 - mean_absolute_error: 0.2270 - val_loss: 0.2185 - val_mean_absolute_error: 0.2185\n",
      "Epoch 40/200\n",
      "371/371 [==============================] - 0s 589us/step - loss: 0.2256 - mean_absolute_error: 0.2256 - val_loss: 0.2156 - val_mean_absolute_error: 0.2156\n",
      "Epoch 41/200\n",
      "371/371 [==============================] - 0s 598us/step - loss: 0.2241 - mean_absolute_error: 0.2241 - val_loss: 0.2416 - val_mean_absolute_error: 0.2416\n",
      "Epoch 42/200\n",
      "371/371 [==============================] - 0s 606us/step - loss: 0.2227 - mean_absolute_error: 0.2227 - val_loss: 0.2295 - val_mean_absolute_error: 0.2295\n",
      "Epoch 43/200\n",
      "371/371 [==============================] - 0s 592us/step - loss: 0.2217 - mean_absolute_error: 0.2217 - val_loss: 0.2371 - val_mean_absolute_error: 0.2371\n",
      "Epoch 44/200\n",
      "371/371 [==============================] - 0s 588us/step - loss: 0.2202 - mean_absolute_error: 0.2202 - val_loss: 0.2164 - val_mean_absolute_error: 0.2164\n",
      "Epoch 45/200\n",
      "371/371 [==============================] - 0s 592us/step - loss: 0.2191 - mean_absolute_error: 0.2191 - val_loss: 0.2161 - val_mean_absolute_error: 0.2161\n",
      "Epoch 46/200\n",
      "371/371 [==============================] - 0s 603us/step - loss: 0.2178 - mean_absolute_error: 0.2178 - val_loss: 0.2274 - val_mean_absolute_error: 0.2274\n",
      "Epoch 47/200\n",
      "371/371 [==============================] - 0s 590us/step - loss: 0.2171 - mean_absolute_error: 0.2171 - val_loss: 0.2130 - val_mean_absolute_error: 0.2130\n",
      "Epoch 48/200\n",
      "371/371 [==============================] - 0s 588us/step - loss: 0.2157 - mean_absolute_error: 0.2157 - val_loss: 0.2100 - val_mean_absolute_error: 0.2100\n",
      "Epoch 49/200\n",
      "371/371 [==============================] - 0s 590us/step - loss: 0.2141 - mean_absolute_error: 0.2141 - val_loss: 0.2208 - val_mean_absolute_error: 0.2208\n"
     ]
    },
    {
     "name": "stdout",
     "output_type": "stream",
     "text": [
      "Epoch 50/200\n",
      "371/371 [==============================] - 0s 593us/step - loss: 0.2136 - mean_absolute_error: 0.2136 - val_loss: 0.2092 - val_mean_absolute_error: 0.2092\n",
      "Epoch 51/200\n",
      "371/371 [==============================] - 0s 596us/step - loss: 0.2118 - mean_absolute_error: 0.2118 - val_loss: 0.2118 - val_mean_absolute_error: 0.2118\n",
      "Epoch 52/200\n",
      "371/371 [==============================] - 0s 585us/step - loss: 0.2110 - mean_absolute_error: 0.2110 - val_loss: 0.2028 - val_mean_absolute_error: 0.2028\n",
      "Epoch 53/200\n",
      "371/371 [==============================] - 0s 587us/step - loss: 0.2102 - mean_absolute_error: 0.2102 - val_loss: 0.2014 - val_mean_absolute_error: 0.2014\n",
      "Epoch 54/200\n",
      "371/371 [==============================] - 0s 592us/step - loss: 0.2087 - mean_absolute_error: 0.2087 - val_loss: 0.2008 - val_mean_absolute_error: 0.2008\n",
      "Epoch 55/200\n",
      "371/371 [==============================] - 0s 607us/step - loss: 0.2079 - mean_absolute_error: 0.2079 - val_loss: 0.2245 - val_mean_absolute_error: 0.2245\n",
      "Epoch 56/200\n",
      "371/371 [==============================] - 0s 586us/step - loss: 0.2070 - mean_absolute_error: 0.2070 - val_loss: 0.2041 - val_mean_absolute_error: 0.2041\n",
      "Epoch 57/200\n",
      "371/371 [==============================] - 0s 582us/step - loss: 0.2060 - mean_absolute_error: 0.2060 - val_loss: 0.1949 - val_mean_absolute_error: 0.1949\n",
      "Epoch 58/200\n",
      "371/371 [==============================] - 0s 585us/step - loss: 0.2050 - mean_absolute_error: 0.2050 - val_loss: 0.2058 - val_mean_absolute_error: 0.2058\n",
      "Epoch 59/200\n",
      "371/371 [==============================] - 0s 593us/step - loss: 0.2037 - mean_absolute_error: 0.2037 - val_loss: 0.2054 - val_mean_absolute_error: 0.2054\n",
      "Epoch 60/200\n",
      "371/371 [==============================] - 0s 586us/step - loss: 0.2021 - mean_absolute_error: 0.2021 - val_loss: 0.1993 - val_mean_absolute_error: 0.1993\n",
      "Epoch 61/200\n",
      "371/371 [==============================] - 0s 588us/step - loss: 0.2012 - mean_absolute_error: 0.2012 - val_loss: 0.2107 - val_mean_absolute_error: 0.2107\n",
      "Epoch 62/200\n",
      "371/371 [==============================] - 0s 591us/step - loss: 0.2004 - mean_absolute_error: 0.2004 - val_loss: 0.2101 - val_mean_absolute_error: 0.2101\n",
      "Epoch 63/200\n",
      "371/371 [==============================] - 0s 586us/step - loss: 0.1993 - mean_absolute_error: 0.1993 - val_loss: 0.2004 - val_mean_absolute_error: 0.2004\n",
      "Epoch 64/200\n",
      "371/371 [==============================] - 0s 583us/step - loss: 0.1979 - mean_absolute_error: 0.1979 - val_loss: 0.1915 - val_mean_absolute_error: 0.1915\n",
      "Epoch 65/200\n",
      "371/371 [==============================] - 0s 587us/step - loss: 0.1970 - mean_absolute_error: 0.1970 - val_loss: 0.1932 - val_mean_absolute_error: 0.1932\n",
      "Epoch 66/200\n",
      "371/371 [==============================] - 0s 589us/step - loss: 0.1959 - mean_absolute_error: 0.1959 - val_loss: 0.2288 - val_mean_absolute_error: 0.2288\n",
      "Epoch 67/200\n",
      "371/371 [==============================] - 0s 587us/step - loss: 0.1949 - mean_absolute_error: 0.1949 - val_loss: 0.2092 - val_mean_absolute_error: 0.2092\n",
      "Epoch 68/200\n",
      "371/371 [==============================] - 0s 581us/step - loss: 0.1933 - mean_absolute_error: 0.1933 - val_loss: 0.2021 - val_mean_absolute_error: 0.2021\n",
      "Epoch 69/200\n",
      "371/371 [==============================] - 0s 582us/step - loss: 0.1918 - mean_absolute_error: 0.1918 - val_loss: 0.2058 - val_mean_absolute_error: 0.2058\n",
      "Epoch 70/200\n",
      "371/371 [==============================] - 0s 592us/step - loss: 0.1919 - mean_absolute_error: 0.1919 - val_loss: 0.1966 - val_mean_absolute_error: 0.1966\n",
      "Epoch 71/200\n",
      "371/371 [==============================] - 0s 591us/step - loss: 0.1903 - mean_absolute_error: 0.1903 - val_loss: 0.1860 - val_mean_absolute_error: 0.1860\n",
      "Epoch 72/200\n",
      "371/371 [==============================] - 0s 588us/step - loss: 0.1893 - mean_absolute_error: 0.1893 - val_loss: 0.1929 - val_mean_absolute_error: 0.1929\n",
      "Epoch 73/200\n",
      "371/371 [==============================] - 0s 588us/step - loss: 0.1883 - mean_absolute_error: 0.1883 - val_loss: 0.1966 - val_mean_absolute_error: 0.1966\n",
      "Epoch 74/200\n",
      "371/371 [==============================] - 0s 590us/step - loss: 0.1873 - mean_absolute_error: 0.1873 - val_loss: 0.1850 - val_mean_absolute_error: 0.1850\n",
      "Epoch 75/200\n",
      "371/371 [==============================] - 0s 585us/step - loss: 0.1859 - mean_absolute_error: 0.1859 - val_loss: 0.2011 - val_mean_absolute_error: 0.2011\n",
      "Epoch 76/200\n",
      "371/371 [==============================] - 0s 589us/step - loss: 0.1855 - mean_absolute_error: 0.1855 - val_loss: 0.1909 - val_mean_absolute_error: 0.1909\n",
      "Epoch 77/200\n",
      "371/371 [==============================] - 0s 590us/step - loss: 0.1845 - mean_absolute_error: 0.1845 - val_loss: 0.1818 - val_mean_absolute_error: 0.1818\n",
      "Epoch 78/200\n",
      "371/371 [==============================] - 0s 585us/step - loss: 0.1837 - mean_absolute_error: 0.1837 - val_loss: 0.2117 - val_mean_absolute_error: 0.2117\n",
      "Epoch 79/200\n",
      "371/371 [==============================] - 0s 589us/step - loss: 0.1829 - mean_absolute_error: 0.1829 - val_loss: 0.1721 - val_mean_absolute_error: 0.1721\n",
      "Epoch 80/200\n",
      "371/371 [==============================] - 0s 589us/step - loss: 0.1820 - mean_absolute_error: 0.1820 - val_loss: 0.1854 - val_mean_absolute_error: 0.1854\n",
      "Epoch 81/200\n",
      "371/371 [==============================] - 0s 589us/step - loss: 0.1810 - mean_absolute_error: 0.1810 - val_loss: 0.1876 - val_mean_absolute_error: 0.1876\n",
      "Epoch 82/200\n",
      "371/371 [==============================] - 0s 589us/step - loss: 0.1807 - mean_absolute_error: 0.1807 - val_loss: 0.1936 - val_mean_absolute_error: 0.1936\n",
      "Epoch 83/200\n",
      "371/371 [==============================] - 0s 676us/step - loss: 0.1793 - mean_absolute_error: 0.1793 - val_loss: 0.1754 - val_mean_absolute_error: 0.1754\n",
      "Epoch 84/200\n",
      "371/371 [==============================] - 0s 629us/step - loss: 0.1786 - mean_absolute_error: 0.1786 - val_loss: 0.1711 - val_mean_absolute_error: 0.1711\n",
      "Epoch 85/200\n",
      "371/371 [==============================] - 0s 612us/step - loss: 0.1780 - mean_absolute_error: 0.1780 - val_loss: 0.1729 - val_mean_absolute_error: 0.1729\n",
      "Epoch 86/200\n",
      "371/371 [==============================] - 0s 616us/step - loss: 0.1770 - mean_absolute_error: 0.1770 - val_loss: 0.1713 - val_mean_absolute_error: 0.1713\n",
      "Epoch 87/200\n",
      "371/371 [==============================] - 0s 588us/step - loss: 0.1763 - mean_absolute_error: 0.1763 - val_loss: 0.1803 - val_mean_absolute_error: 0.1803\n",
      "Epoch 88/200\n",
      "371/371 [==============================] - 0s 589us/step - loss: 0.1758 - mean_absolute_error: 0.1758 - val_loss: 0.1711 - val_mean_absolute_error: 0.1711\n",
      "Epoch 89/200\n",
      "371/371 [==============================] - 0s 589us/step - loss: 0.1749 - mean_absolute_error: 0.1749 - val_loss: 0.1799 - val_mean_absolute_error: 0.1799\n",
      "Epoch 90/200\n",
      "371/371 [==============================] - 0s 639us/step - loss: 0.1750 - mean_absolute_error: 0.1750 - val_loss: 0.1736 - val_mean_absolute_error: 0.1736\n",
      "Epoch 91/200\n",
      "371/371 [==============================] - 0s 671us/step - loss: 0.1739 - mean_absolute_error: 0.1739 - val_loss: 0.1753 - val_mean_absolute_error: 0.1753\n",
      "Epoch 92/200\n",
      "371/371 [==============================] - 0s 593us/step - loss: 0.1732 - mean_absolute_error: 0.1732 - val_loss: 0.1710 - val_mean_absolute_error: 0.1710\n",
      "Epoch 93/200\n",
      "371/371 [==============================] - 0s 591us/step - loss: 0.1725 - mean_absolute_error: 0.1725 - val_loss: 0.1750 - val_mean_absolute_error: 0.1750\n",
      "Epoch 94/200\n",
      "371/371 [==============================] - 0s 588us/step - loss: 0.1721 - mean_absolute_error: 0.1721 - val_loss: 0.1725 - val_mean_absolute_error: 0.1725\n",
      "Epoch 95/200\n",
      "371/371 [==============================] - 0s 595us/step - loss: 0.1718 - mean_absolute_error: 0.1718 - val_loss: 0.1717 - val_mean_absolute_error: 0.1717\n",
      "Epoch 96/200\n",
      "371/371 [==============================] - 0s 593us/step - loss: 0.1715 - mean_absolute_error: 0.1715 - val_loss: 0.1850 - val_mean_absolute_error: 0.1850\n",
      "Epoch 97/200\n",
      "371/371 [==============================] - 0s 595us/step - loss: 0.1706 - mean_absolute_error: 0.1706 - val_loss: 0.1651 - val_mean_absolute_error: 0.1651\n",
      "Epoch 98/200\n",
      "371/371 [==============================] - 0s 592us/step - loss: 0.1702 - mean_absolute_error: 0.1702 - val_loss: 0.1740 - val_mean_absolute_error: 0.1740\n"
     ]
    },
    {
     "name": "stdout",
     "output_type": "stream",
     "text": [
      "Epoch 99/200\n",
      "371/371 [==============================] - 0s 595us/step - loss: 0.1699 - mean_absolute_error: 0.1699 - val_loss: 0.1796 - val_mean_absolute_error: 0.1796\n",
      "Epoch 100/200\n",
      "371/371 [==============================] - 0s 683us/step - loss: 0.1693 - mean_absolute_error: 0.1693 - val_loss: 0.1639 - val_mean_absolute_error: 0.1639\n",
      "Epoch 101/200\n",
      "371/371 [==============================] - 0s 654us/step - loss: 0.1684 - mean_absolute_error: 0.1684 - val_loss: 0.1693 - val_mean_absolute_error: 0.1693\n",
      "Epoch 102/200\n",
      "371/371 [==============================] - 0s 626us/step - loss: 0.1682 - mean_absolute_error: 0.1682 - val_loss: 0.1634 - val_mean_absolute_error: 0.1634\n",
      "Epoch 103/200\n",
      "371/371 [==============================] - 0s 599us/step - loss: 0.1681 - mean_absolute_error: 0.1681 - val_loss: 0.1696 - val_mean_absolute_error: 0.1696\n",
      "Epoch 104/200\n",
      "371/371 [==============================] - 0s 601us/step - loss: 0.1674 - mean_absolute_error: 0.1674 - val_loss: 0.1705 - val_mean_absolute_error: 0.1705\n",
      "Epoch 105/200\n",
      "371/371 [==============================] - 0s 592us/step - loss: 0.1668 - mean_absolute_error: 0.1668 - val_loss: 0.1627 - val_mean_absolute_error: 0.1627\n",
      "Epoch 106/200\n",
      "371/371 [==============================] - 0s 596us/step - loss: 0.1664 - mean_absolute_error: 0.1664 - val_loss: 0.1686 - val_mean_absolute_error: 0.1686\n",
      "Epoch 107/200\n",
      "371/371 [==============================] - 0s 610us/step - loss: 0.1661 - mean_absolute_error: 0.1661 - val_loss: 0.1651 - val_mean_absolute_error: 0.1651\n",
      "Epoch 108/200\n",
      "371/371 [==============================] - 0s 593us/step - loss: 0.1660 - mean_absolute_error: 0.1660 - val_loss: 0.1753 - val_mean_absolute_error: 0.1753\n",
      "Epoch 109/200\n",
      "371/371 [==============================] - 0s 589us/step - loss: 0.1650 - mean_absolute_error: 0.1650 - val_loss: 0.1601 - val_mean_absolute_error: 0.1601\n",
      "Epoch 110/200\n",
      "371/371 [==============================] - 0s 586us/step - loss: 0.1646 - mean_absolute_error: 0.1646 - val_loss: 0.1573 - val_mean_absolute_error: 0.1573\n",
      "Epoch 111/200\n",
      "371/371 [==============================] - 0s 587us/step - loss: 0.1647 - mean_absolute_error: 0.1647 - val_loss: 0.1679 - val_mean_absolute_error: 0.1679\n",
      "Epoch 112/200\n",
      "371/371 [==============================] - 0s 608us/step - loss: 0.1637 - mean_absolute_error: 0.1637 - val_loss: 0.1620 - val_mean_absolute_error: 0.1620\n",
      "Epoch 113/200\n",
      "371/371 [==============================] - 0s 631us/step - loss: 0.1637 - mean_absolute_error: 0.1637 - val_loss: 0.1577 - val_mean_absolute_error: 0.1577\n",
      "Epoch 114/200\n",
      "371/371 [==============================] - 0s 626us/step - loss: 0.1633 - mean_absolute_error: 0.1633 - val_loss: 0.1668 - val_mean_absolute_error: 0.1668\n",
      "Epoch 115/200\n",
      "371/371 [==============================] - 0s 665us/step - loss: 0.1632 - mean_absolute_error: 0.1632 - val_loss: 0.1541 - val_mean_absolute_error: 0.1541\n",
      "Epoch 116/200\n",
      "371/371 [==============================] - 0s 634us/step - loss: 0.1626 - mean_absolute_error: 0.1626 - val_loss: 0.1669 - val_mean_absolute_error: 0.1669\n",
      "Epoch 117/200\n",
      "371/371 [==============================] - 0s 600us/step - loss: 0.1618 - mean_absolute_error: 0.1618 - val_loss: 0.1604 - val_mean_absolute_error: 0.1604\n",
      "Epoch 118/200\n",
      "371/371 [==============================] - 0s 588us/step - loss: 0.1618 - mean_absolute_error: 0.1618 - val_loss: 0.1551 - val_mean_absolute_error: 0.1551\n",
      "Epoch 119/200\n",
      "371/371 [==============================] - 0s 618us/step - loss: 0.1613 - mean_absolute_error: 0.1613 - val_loss: 0.1534 - val_mean_absolute_error: 0.1534\n",
      "Epoch 120/200\n",
      "371/371 [==============================] - 0s 625us/step - loss: 0.1607 - mean_absolute_error: 0.1607 - val_loss: 0.1528 - val_mean_absolute_error: 0.1528\n",
      "Epoch 121/200\n",
      "371/371 [==============================] - 0s 629us/step - loss: 0.1607 - mean_absolute_error: 0.1607 - val_loss: 0.1591 - val_mean_absolute_error: 0.1591\n",
      "Epoch 122/200\n",
      "371/371 [==============================] - 0s 613us/step - loss: 0.1604 - mean_absolute_error: 0.1604 - val_loss: 0.1612 - val_mean_absolute_error: 0.1612\n",
      "Epoch 123/200\n",
      "371/371 [==============================] - 0s 593us/step - loss: 0.1600 - mean_absolute_error: 0.1600 - val_loss: 0.1767 - val_mean_absolute_error: 0.1767\n",
      "Epoch 124/200\n",
      "371/371 [==============================] - 0s 606us/step - loss: 0.1597 - mean_absolute_error: 0.1597 - val_loss: 0.1639 - val_mean_absolute_error: 0.1639\n",
      "Epoch 125/200\n",
      "371/371 [==============================] - 0s 592us/step - loss: 0.1588 - mean_absolute_error: 0.1588 - val_loss: 0.1606 - val_mean_absolute_error: 0.1606\n",
      "Epoch 126/200\n",
      "371/371 [==============================] - 0s 592us/step - loss: 0.1589 - mean_absolute_error: 0.1589 - val_loss: 0.1597 - val_mean_absolute_error: 0.1597\n",
      "Epoch 127/200\n",
      "371/371 [==============================] - 0s 593us/step - loss: 0.1584 - mean_absolute_error: 0.1584 - val_loss: 0.1543 - val_mean_absolute_error: 0.1543\n",
      "Epoch 128/200\n",
      "371/371 [==============================] - 0s 596us/step - loss: 0.1584 - mean_absolute_error: 0.1584 - val_loss: 0.1679 - val_mean_absolute_error: 0.1679\n",
      "Epoch 129/200\n",
      "371/371 [==============================] - 0s 592us/step - loss: 0.1576 - mean_absolute_error: 0.1576 - val_loss: 0.1664 - val_mean_absolute_error: 0.1664\n",
      "Epoch 130/200\n",
      "371/371 [==============================] - 0s 639us/step - loss: 0.1575 - mean_absolute_error: 0.1575 - val_loss: 0.1502 - val_mean_absolute_error: 0.1502\n",
      "Epoch 131/200\n",
      "371/371 [==============================] - 0s 612us/step - loss: 0.1576 - mean_absolute_error: 0.1576 - val_loss: 0.1527 - val_mean_absolute_error: 0.1527\n",
      "Epoch 132/200\n",
      "371/371 [==============================] - 0s 608us/step - loss: 0.1570 - mean_absolute_error: 0.1570 - val_loss: 0.1612 - val_mean_absolute_error: 0.1612\n",
      "Epoch 133/200\n",
      "371/371 [==============================] - 0s 603us/step - loss: 0.1561 - mean_absolute_error: 0.1561 - val_loss: 0.1622 - val_mean_absolute_error: 0.1622\n",
      "Epoch 134/200\n",
      "371/371 [==============================] - 0s 634us/step - loss: 0.1565 - mean_absolute_error: 0.1565 - val_loss: 0.1549 - val_mean_absolute_error: 0.1549\n",
      "Epoch 135/200\n",
      "371/371 [==============================] - 0s 608us/step - loss: 0.1559 - mean_absolute_error: 0.1559 - val_loss: 0.1602 - val_mean_absolute_error: 0.1602\n",
      "Epoch 136/200\n",
      "371/371 [==============================] - 0s 587us/step - loss: 0.1556 - mean_absolute_error: 0.1556 - val_loss: 0.1553 - val_mean_absolute_error: 0.1553\n",
      "Epoch 137/200\n",
      "371/371 [==============================] - 0s 591us/step - loss: 0.1552 - mean_absolute_error: 0.1552 - val_loss: 0.1593 - val_mean_absolute_error: 0.1593\n",
      "Epoch 138/200\n",
      "371/371 [==============================] - 0s 589us/step - loss: 0.1551 - mean_absolute_error: 0.1551 - val_loss: 0.1684 - val_mean_absolute_error: 0.1684\n",
      "Epoch 139/200\n",
      "371/371 [==============================] - 0s 592us/step - loss: 0.1547 - mean_absolute_error: 0.1547 - val_loss: 0.1612 - val_mean_absolute_error: 0.1612\n",
      "Epoch 140/200\n",
      "371/371 [==============================] - 0s 591us/step - loss: 0.1543 - mean_absolute_error: 0.1543 - val_loss: 0.1640 - val_mean_absolute_error: 0.1640\n",
      "Epoch 141/200\n",
      "371/371 [==============================] - 0s 586us/step - loss: 0.1535 - mean_absolute_error: 0.1535 - val_loss: 0.1578 - val_mean_absolute_error: 0.1578\n",
      "Epoch 142/200\n",
      "371/371 [==============================] - 0s 643us/step - loss: 0.1544 - mean_absolute_error: 0.1544 - val_loss: 0.1501 - val_mean_absolute_error: 0.1501\n",
      "Epoch 143/200\n",
      "371/371 [==============================] - 0s 611us/step - loss: 0.1534 - mean_absolute_error: 0.1534 - val_loss: 0.1646 - val_mean_absolute_error: 0.1646\n",
      "Epoch 144/200\n",
      "371/371 [==============================] - 0s 586us/step - loss: 0.1535 - mean_absolute_error: 0.1535 - val_loss: 0.1449 - val_mean_absolute_error: 0.1449\n",
      "Epoch 145/200\n",
      "371/371 [==============================] - 0s 587us/step - loss: 0.1530 - mean_absolute_error: 0.1530 - val_loss: 0.1526 - val_mean_absolute_error: 0.1526\n",
      "Epoch 146/200\n",
      "371/371 [==============================] - 0s 643us/step - loss: 0.1527 - mean_absolute_error: 0.1527 - val_loss: 0.1630 - val_mean_absolute_error: 0.1630\n",
      "Epoch 147/200\n"
     ]
    },
    {
     "name": "stdout",
     "output_type": "stream",
     "text": [
      "371/371 [==============================] - 0s 605us/step - loss: 0.1524 - mean_absolute_error: 0.1524 - val_loss: 0.1631 - val_mean_absolute_error: 0.1631\n",
      "Epoch 148/200\n",
      "371/371 [==============================] - 0s 635us/step - loss: 0.1523 - mean_absolute_error: 0.1523 - val_loss: 0.1501 - val_mean_absolute_error: 0.1501\n",
      "Epoch 149/200\n",
      "371/371 [==============================] - 0s 607us/step - loss: 0.1520 - mean_absolute_error: 0.1520 - val_loss: 0.1552 - val_mean_absolute_error: 0.1552\n",
      "Epoch 150/200\n",
      "371/371 [==============================] - 0s 608us/step - loss: 0.1520 - mean_absolute_error: 0.1520 - val_loss: 0.1511 - val_mean_absolute_error: 0.1511\n",
      "Epoch 151/200\n",
      "371/371 [==============================] - 0s 589us/step - loss: 0.1518 - mean_absolute_error: 0.1518 - val_loss: 0.1577 - val_mean_absolute_error: 0.1577\n",
      "Epoch 152/200\n",
      "371/371 [==============================] - 0s 622us/step - loss: 0.1519 - mean_absolute_error: 0.1519 - val_loss: 0.1495 - val_mean_absolute_error: 0.1495\n",
      "Epoch 153/200\n",
      "371/371 [==============================] - 0s 678us/step - loss: 0.1515 - mean_absolute_error: 0.1515 - val_loss: 0.1473 - val_mean_absolute_error: 0.1473\n",
      "Epoch 154/200\n",
      "371/371 [==============================] - 0s 590us/step - loss: 0.1507 - mean_absolute_error: 0.1507 - val_loss: 0.1576 - val_mean_absolute_error: 0.1576\n",
      "Epoch 155/200\n",
      "371/371 [==============================] - 0s 654us/step - loss: 0.1508 - mean_absolute_error: 0.1508 - val_loss: 0.1627 - val_mean_absolute_error: 0.1627\n",
      "Epoch 156/200\n",
      "371/371 [==============================] - 0s 651us/step - loss: 0.1503 - mean_absolute_error: 0.1503 - val_loss: 0.1506 - val_mean_absolute_error: 0.1506\n",
      "Epoch 157/200\n",
      "371/371 [==============================] - 0s 609us/step - loss: 0.1504 - mean_absolute_error: 0.1504 - val_loss: 0.1435 - val_mean_absolute_error: 0.1435\n",
      "Epoch 158/200\n",
      "371/371 [==============================] - 0s 608us/step - loss: 0.1495 - mean_absolute_error: 0.1495 - val_loss: 0.1551 - val_mean_absolute_error: 0.1551\n",
      "Epoch 159/200\n",
      "371/371 [==============================] - 0s 618us/step - loss: 0.1494 - mean_absolute_error: 0.1494 - val_loss: 0.1514 - val_mean_absolute_error: 0.1514\n",
      "Epoch 160/200\n",
      "371/371 [==============================] - 0s 587us/step - loss: 0.1492 - mean_absolute_error: 0.1492 - val_loss: 0.1485 - val_mean_absolute_error: 0.1485\n",
      "Epoch 161/200\n",
      "371/371 [==============================] - 0s 588us/step - loss: 0.1489 - mean_absolute_error: 0.1489 - val_loss: 0.1632 - val_mean_absolute_error: 0.1632\n",
      "Epoch 162/200\n",
      "371/371 [==============================] - 0s 593us/step - loss: 0.1489 - mean_absolute_error: 0.1489 - val_loss: 0.1484 - val_mean_absolute_error: 0.1484\n",
      "Epoch 163/200\n",
      "371/371 [==============================] - 0s 611us/step - loss: 0.1489 - mean_absolute_error: 0.1489 - val_loss: 0.1512 - val_mean_absolute_error: 0.1512\n",
      "Epoch 164/200\n",
      "371/371 [==============================] - 0s 588us/step - loss: 0.1482 - mean_absolute_error: 0.1482 - val_loss: 0.1547 - val_mean_absolute_error: 0.1547\n",
      "Epoch 165/200\n",
      "371/371 [==============================] - 0s 703us/step - loss: 0.1487 - mean_absolute_error: 0.1487 - val_loss: 0.1609 - val_mean_absolute_error: 0.1609\n",
      "Epoch 166/200\n",
      "371/371 [==============================] - 0s 597us/step - loss: 0.1484 - mean_absolute_error: 0.1484 - val_loss: 0.1582 - val_mean_absolute_error: 0.1582\n",
      "Epoch 167/200\n",
      "371/371 [==============================] - 0s 591us/step - loss: 0.1475 - mean_absolute_error: 0.1475 - val_loss: 0.1667 - val_mean_absolute_error: 0.1667\n",
      "Epoch 168/200\n",
      "371/371 [==============================] - 0s 586us/step - loss: 0.1478 - mean_absolute_error: 0.1478 - val_loss: 0.1512 - val_mean_absolute_error: 0.1512\n",
      "Epoch 169/200\n",
      "371/371 [==============================] - 0s 583us/step - loss: 0.1474 - mean_absolute_error: 0.1474 - val_loss: 0.1558 - val_mean_absolute_error: 0.1558\n",
      "Epoch 170/200\n",
      "371/371 [==============================] - 0s 587us/step - loss: 0.1469 - mean_absolute_error: 0.1469 - val_loss: 0.1499 - val_mean_absolute_error: 0.1499\n",
      "Epoch 171/200\n",
      "371/371 [==============================] - 0s 583us/step - loss: 0.1473 - mean_absolute_error: 0.1473 - val_loss: 0.1453 - val_mean_absolute_error: 0.1453\n",
      "Epoch 172/200\n",
      "371/371 [==============================] - 0s 606us/step - loss: 0.1470 - mean_absolute_error: 0.1470 - val_loss: 0.1468 - val_mean_absolute_error: 0.1468\n",
      "Epoch 173/200\n",
      "371/371 [==============================] - 0s 644us/step - loss: 0.1464 - mean_absolute_error: 0.1464 - val_loss: 0.1572 - val_mean_absolute_error: 0.1572\n",
      "Epoch 174/200\n",
      "371/371 [==============================] - 0s 601us/step - loss: 0.1464 - mean_absolute_error: 0.1464 - val_loss: 0.1430 - val_mean_absolute_error: 0.1430\n",
      "Epoch 175/200\n",
      "371/371 [==============================] - 0s 613us/step - loss: 0.1463 - mean_absolute_error: 0.1463 - val_loss: 0.1542 - val_mean_absolute_error: 0.1542\n",
      "Epoch 176/200\n",
      "371/371 [==============================] - 0s 602us/step - loss: 0.1460 - mean_absolute_error: 0.1460 - val_loss: 0.1583 - val_mean_absolute_error: 0.1583\n",
      "Epoch 177/200\n",
      "371/371 [==============================] - 0s 599us/step - loss: 0.1457 - mean_absolute_error: 0.1457 - val_loss: 0.1484 - val_mean_absolute_error: 0.1484\n",
      "Epoch 178/200\n",
      "371/371 [==============================] - 0s 591us/step - loss: 0.1462 - mean_absolute_error: 0.1462 - val_loss: 0.1513 - val_mean_absolute_error: 0.1513\n",
      "Epoch 179/200\n",
      "371/371 [==============================] - 0s 588us/step - loss: 0.1454 - mean_absolute_error: 0.1454 - val_loss: 0.1486 - val_mean_absolute_error: 0.1486\n",
      "Epoch 180/200\n",
      "371/371 [==============================] - 0s 632us/step - loss: 0.1456 - mean_absolute_error: 0.1456 - val_loss: 0.1492 - val_mean_absolute_error: 0.1492\n",
      "Epoch 181/200\n",
      "371/371 [==============================] - 0s 592us/step - loss: 0.1452 - mean_absolute_error: 0.1452 - val_loss: 0.1557 - val_mean_absolute_error: 0.1557\n",
      "Epoch 182/200\n",
      "371/371 [==============================] - 0s 590us/step - loss: 0.1453 - mean_absolute_error: 0.1453 - val_loss: 0.1417 - val_mean_absolute_error: 0.1417\n",
      "Epoch 183/200\n",
      "371/371 [==============================] - 0s 589us/step - loss: 0.1450 - mean_absolute_error: 0.1450 - val_loss: 0.1431 - val_mean_absolute_error: 0.1431\n",
      "Epoch 184/200\n",
      "371/371 [==============================] - 0s 584us/step - loss: 0.1446 - mean_absolute_error: 0.1446 - val_loss: 0.1446 - val_mean_absolute_error: 0.1446\n",
      "Epoch 185/200\n",
      "371/371 [==============================] - 0s 597us/step - loss: 0.1447 - mean_absolute_error: 0.1447 - val_loss: 0.1416 - val_mean_absolute_error: 0.1416\n",
      "Epoch 186/200\n",
      "371/371 [==============================] - 0s 598us/step - loss: 0.1443 - mean_absolute_error: 0.1443 - val_loss: 0.1597 - val_mean_absolute_error: 0.1597\n",
      "Epoch 187/200\n",
      "371/371 [==============================] - 0s 589us/step - loss: 0.1443 - mean_absolute_error: 0.1443 - val_loss: 0.1665 - val_mean_absolute_error: 0.1665\n",
      "Epoch 188/200\n",
      "371/371 [==============================] - 0s 587us/step - loss: 0.1443 - mean_absolute_error: 0.1443 - val_loss: 0.1427 - val_mean_absolute_error: 0.1427\n",
      "Epoch 189/200\n",
      "371/371 [==============================] - 0s 594us/step - loss: 0.1439 - mean_absolute_error: 0.1439 - val_loss: 0.1493 - val_mean_absolute_error: 0.1493\n",
      "Epoch 190/200\n",
      "371/371 [==============================] - 0s 585us/step - loss: 0.1431 - mean_absolute_error: 0.1431 - val_loss: 0.1402 - val_mean_absolute_error: 0.1402\n",
      "Epoch 191/200\n",
      "371/371 [==============================] - 0s 628us/step - loss: 0.1435 - mean_absolute_error: 0.1435 - val_loss: 0.1550 - val_mean_absolute_error: 0.1550\n",
      "Epoch 192/200\n",
      "371/371 [==============================] - 0s 617us/step - loss: 0.1435 - mean_absolute_error: 0.1435 - val_loss: 0.1433 - val_mean_absolute_error: 0.1433\n",
      "Epoch 193/200\n",
      "371/371 [==============================] - 0s 772us/step - loss: 0.1430 - mean_absolute_error: 0.1430 - val_loss: 0.1419 - val_mean_absolute_error: 0.1419\n",
      "Epoch 194/200\n",
      "371/371 [==============================] - 0s 602us/step - loss: 0.1430 - mean_absolute_error: 0.1430 - val_loss: 0.1473 - val_mean_absolute_error: 0.1473\n",
      "Epoch 195/200\n"
     ]
    },
    {
     "name": "stdout",
     "output_type": "stream",
     "text": [
      "371/371 [==============================] - 0s 630us/step - loss: 0.1426 - mean_absolute_error: 0.1426 - val_loss: 0.1459 - val_mean_absolute_error: 0.1459\n",
      "Epoch 196/200\n",
      "371/371 [==============================] - 0s 584us/step - loss: 0.1430 - mean_absolute_error: 0.1430 - val_loss: 0.1464 - val_mean_absolute_error: 0.1464\n",
      "Epoch 197/200\n",
      "371/371 [==============================] - 0s 597us/step - loss: 0.1427 - mean_absolute_error: 0.1427 - val_loss: 0.1492 - val_mean_absolute_error: 0.1492\n",
      "Epoch 198/200\n",
      "371/371 [==============================] - 0s 588us/step - loss: 0.1427 - mean_absolute_error: 0.1427 - val_loss: 0.1580 - val_mean_absolute_error: 0.1580\n",
      "Epoch 199/200\n",
      "371/371 [==============================] - 0s 589us/step - loss: 0.1424 - mean_absolute_error: 0.1424 - val_loss: 0.1489 - val_mean_absolute_error: 0.1489\n",
      "Epoch 200/200\n",
      "371/371 [==============================] - 0s 583us/step - loss: 0.1419 - mean_absolute_error: 0.1419 - val_loss: 0.1428 - val_mean_absolute_error: 0.1428\n"
     ]
    }
   ],
   "source": [
    "print(\"Fit model on training data\")\n",
    "history = model.fit(\n",
    "    X_train,\n",
    "    Y_train,\n",
    "    batch_size=64,\n",
    "    epochs=200,\n",
    "    # We pass some validation for\n",
    "    # monitoring validation loss and metrics\n",
    "    # at the end of each epoch\n",
    "    validation_data=(X_test, Y_test),\n",
    ")"
   ]
  },
  {
   "cell_type": "code",
   "execution_count": 24,
   "id": "93629dba",
   "metadata": {},
   "outputs": [
    {
     "name": "stdout",
     "output_type": "stream",
     "text": [
      "742/742 [==============================] - 0s 311us/step\n"
     ]
    },
    {
     "data": {
      "text/plain": [
       "0.13744080010353865"
      ]
     },
     "execution_count": 24,
     "metadata": {},
     "output_type": "execute_result"
    }
   ],
   "source": [
    "mean_absolute_error(Y_train, model.predict(X_train))"
   ]
  },
  {
   "cell_type": "code",
   "execution_count": 25,
   "id": "04ad8c8e",
   "metadata": {},
   "outputs": [
    {
     "name": "stdout",
     "output_type": "stream",
     "text": [
      "186/186 [==============================] - 0s 321us/step\n"
     ]
    },
    {
     "data": {
      "text/plain": [
       "0.14277609028311838"
      ]
     },
     "execution_count": 25,
     "metadata": {},
     "output_type": "execute_result"
    }
   ],
   "source": [
    "mean_absolute_error(Y_test, model.predict(X_test))"
   ]
  }
 ],
 "metadata": {
  "kernelspec": {
   "display_name": "Python 3 (ipykernel)",
   "language": "python",
   "name": "python3"
  },
  "language_info": {
   "codemirror_mode": {
    "name": "ipython",
    "version": 3
   },
   "file_extension": ".py",
   "mimetype": "text/x-python",
   "name": "python",
   "nbconvert_exporter": "python",
   "pygments_lexer": "ipython3",
   "version": "3.10.6"
  }
 },
 "nbformat": 4,
 "nbformat_minor": 5
}
