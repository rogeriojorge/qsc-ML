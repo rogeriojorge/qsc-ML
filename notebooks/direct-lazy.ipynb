{
 "cells": [
  {
   "cell_type": "code",
   "execution_count": 1,
   "id": "b50697e3",
   "metadata": {},
   "outputs": [],
   "source": [
    "import pandas as pd\n",
    "\n",
    "from sklearn.model_selection import train_test_split\n",
    "\n",
    "from sklearn.preprocessing import StandardScaler\n",
    "\n",
    "from keras.optimizers import Adam\n",
    "\n",
    "from sklearn.multioutput import MultiOutputRegressor\n",
    "from sklearn.linear_model import Ridge\n",
    "\n",
    "from sklearn.metrics import mean_absolute_error\n",
    "\n",
    "import numpy as np"
   ]
  },
  {
   "cell_type": "code",
   "execution_count": 2,
   "id": "30346186",
   "metadata": {},
   "outputs": [],
   "source": [
    "params = {\n",
    "    'test_size': 0.2,\n",
    "    'random_state': 1337,\n",
    "    'validation_split': 0.2\n",
    "}"
   ]
  },
  {
   "cell_type": "code",
   "execution_count": 3,
   "id": "6776a886",
   "metadata": {},
   "outputs": [],
   "source": [
    "df = pd.read_parquet(\"../data/qsc_out.random_scan_nfp2.parquet\").sample(20000)"
   ]
  },
  {
   "cell_type": "code",
   "execution_count": 4,
   "id": "3599d370",
   "metadata": {},
   "outputs": [
    {
     "data": {
      "text/html": [
       "<div>\n",
       "<style scoped>\n",
       "    .dataframe tbody tr th:only-of-type {\n",
       "        vertical-align: middle;\n",
       "    }\n",
       "\n",
       "    .dataframe tbody tr th {\n",
       "        vertical-align: top;\n",
       "    }\n",
       "\n",
       "    .dataframe thead th {\n",
       "        text-align: right;\n",
       "    }\n",
       "</style>\n",
       "<table border=\"1\" class=\"dataframe\">\n",
       "  <thead>\n",
       "    <tr style=\"text-align: right;\">\n",
       "      <th></th>\n",
       "      <th>x1</th>\n",
       "      <th>x2</th>\n",
       "      <th>x3</th>\n",
       "      <th>x4</th>\n",
       "      <th>x5</th>\n",
       "      <th>x6</th>\n",
       "      <th>x7</th>\n",
       "      <th>x8</th>\n",
       "      <th>y0</th>\n",
       "      <th>y1</th>\n",
       "      <th>y2</th>\n",
       "      <th>y3</th>\n",
       "      <th>y4</th>\n",
       "      <th>y5</th>\n",
       "      <th>y6</th>\n",
       "    </tr>\n",
       "  </thead>\n",
       "  <tbody>\n",
       "    <tr>\n",
       "      <th>927814</th>\n",
       "      <td>-0.042842</td>\n",
       "      <td>0.074952</td>\n",
       "      <td>0.000228</td>\n",
       "      <td>-0.008788</td>\n",
       "      <td>0.003354</td>\n",
       "      <td>0.000826</td>\n",
       "      <td>-0.107395</td>\n",
       "      <td>0.010778</td>\n",
       "      <td>265.493225</td>\n",
       "      <td>3.413386</td>\n",
       "      <td>0.034650</td>\n",
       "      <td>16.252445</td>\n",
       "      <td>0.877191</td>\n",
       "      <td>2.682660</td>\n",
       "      <td>0.312259</td>\n",
       "    </tr>\n",
       "    <tr>\n",
       "      <th>23124</th>\n",
       "      <td>-0.025451</td>\n",
       "      <td>0.014247</td>\n",
       "      <td>-0.000548</td>\n",
       "      <td>0.000191</td>\n",
       "      <td>0.003645</td>\n",
       "      <td>0.003318</td>\n",
       "      <td>-0.568982</td>\n",
       "      <td>0.089715</td>\n",
       "      <td>6.476036</td>\n",
       "      <td>1.286592</td>\n",
       "      <td>0.352464</td>\n",
       "      <td>0.525667</td>\n",
       "      <td>0.810975</td>\n",
       "      <td>2.621150</td>\n",
       "      <td>0.306909</td>\n",
       "    </tr>\n",
       "    <tr>\n",
       "      <th>235954</th>\n",
       "      <td>0.170515</td>\n",
       "      <td>-0.055282</td>\n",
       "      <td>0.017492</td>\n",
       "      <td>-0.002250</td>\n",
       "      <td>0.000192</td>\n",
       "      <td>-0.000542</td>\n",
       "      <td>-1.013491</td>\n",
       "      <td>0.026091</td>\n",
       "      <td>2.253073</td>\n",
       "      <td>21.323753</td>\n",
       "      <td>4.451335</td>\n",
       "      <td>0.437557</td>\n",
       "      <td>0.912871</td>\n",
       "      <td>4.965256</td>\n",
       "      <td>0.354264</td>\n",
       "    </tr>\n",
       "    <tr>\n",
       "      <th>290526</th>\n",
       "      <td>-0.116894</td>\n",
       "      <td>0.127822</td>\n",
       "      <td>-0.008796</td>\n",
       "      <td>0.010350</td>\n",
       "      <td>0.015036</td>\n",
       "      <td>0.000160</td>\n",
       "      <td>-0.217962</td>\n",
       "      <td>1.757503</td>\n",
       "      <td>7.215990</td>\n",
       "      <td>11.345546</td>\n",
       "      <td>3.885552</td>\n",
       "      <td>6.981246</td>\n",
       "      <td>2.735054</td>\n",
       "      <td>8.526979</td>\n",
       "      <td>0.337327</td>\n",
       "    </tr>\n",
       "    <tr>\n",
       "      <th>745104</th>\n",
       "      <td>-0.010574</td>\n",
       "      <td>-0.045799</td>\n",
       "      <td>0.000130</td>\n",
       "      <td>-0.001762</td>\n",
       "      <td>0.000166</td>\n",
       "      <td>-0.001131</td>\n",
       "      <td>-2.870485</td>\n",
       "      <td>-4.229006</td>\n",
       "      <td>142.002274</td>\n",
       "      <td>1.214765</td>\n",
       "      <td>0.084997</td>\n",
       "      <td>1.166556</td>\n",
       "      <td>0.693579</td>\n",
       "      <td>1.546168</td>\n",
       "      <td>0.303115</td>\n",
       "    </tr>\n",
       "  </tbody>\n",
       "</table>\n",
       "</div>"
      ],
      "text/plain": [
       "              x1        x2        x3        x4        x5        x6        x7  \\\n",
       "927814 -0.042842  0.074952  0.000228 -0.008788  0.003354  0.000826 -0.107395   \n",
       "23124  -0.025451  0.014247 -0.000548  0.000191  0.003645  0.003318 -0.568982   \n",
       "235954  0.170515 -0.055282  0.017492 -0.002250  0.000192 -0.000542 -1.013491   \n",
       "290526 -0.116894  0.127822 -0.008796  0.010350  0.015036  0.000160 -0.217962   \n",
       "745104 -0.010574 -0.045799  0.000130 -0.001762  0.000166 -0.001131 -2.870485   \n",
       "\n",
       "              x8          y0         y1        y2         y3        y4  \\\n",
       "927814  0.010778  265.493225   3.413386  0.034650  16.252445  0.877191   \n",
       "23124   0.089715    6.476036   1.286592  0.352464   0.525667  0.810975   \n",
       "235954  0.026091    2.253073  21.323753  4.451335   0.437557  0.912871   \n",
       "290526  1.757503    7.215990  11.345546  3.885552   6.981246  2.735054   \n",
       "745104 -4.229006  142.002274   1.214765  0.084997   1.166556  0.693579   \n",
       "\n",
       "              y5        y6  \n",
       "927814  2.682660  0.312259  \n",
       "23124   2.621150  0.306909  \n",
       "235954  4.965256  0.354264  \n",
       "290526  8.526979  0.337327  \n",
       "745104  1.546168  0.303115  "
      ]
     },
     "execution_count": 4,
     "metadata": {},
     "output_type": "execute_result"
    }
   ],
   "source": [
    "df.head()"
   ]
  },
  {
   "cell_type": "code",
   "execution_count": 5,
   "id": "ed54624a",
   "metadata": {},
   "outputs": [
    {
     "data": {
      "text/plain": [
       "(20000, 15)"
      ]
     },
     "execution_count": 5,
     "metadata": {},
     "output_type": "execute_result"
    }
   ],
   "source": [
    "df.shape"
   ]
  },
  {
   "cell_type": "code",
   "execution_count": 6,
   "id": "0ae249e2",
   "metadata": {},
   "outputs": [],
   "source": [
    "x_columns = [col for col in df.columns if col.startswith('x')]\n",
    "y_columns = [col for col in df.columns if col.startswith('y')]\n",
    "\n",
    "Y = df[y_columns].values\n",
    "X = df[x_columns].values"
   ]
  },
  {
   "cell_type": "code",
   "execution_count": 7,
   "id": "064de500",
   "metadata": {},
   "outputs": [],
   "source": [
    "def preprocess_data(X_train, X_test, Y_train, Y_test, params):\n",
    "    scaler_x = StandardScaler()\n",
    "    scaler_x = scaler_x.fit(X_train)\n",
    "    scaler_y = StandardScaler()\n",
    "    scaler_y = scaler_y.fit(Y_train)\n",
    "    X_train = scaler_x.transform(X_train)\n",
    "    X_test = scaler_x.transform(X_test)\n",
    "    Y_train = scaler_y.transform(Y_train)\n",
    "    Y_test = scaler_y.transform(Y_test)\n",
    "\n",
    "    input_shape = X_train.shape[1]\n",
    "    \n",
    "    output_shape = Y_train.shape[1]\n",
    "    return X_train, X_test, Y_train, Y_test, input_shape, output_shape, scaler_x, scaler_y\n",
    "\n",
    "X_train, X_test, Y_train, Y_test = train_test_split(X, Y, test_size=params['test_size'], \n",
    "                                                    random_state=params['random_state'])\n",
    "\n",
    "X_train, X_test, Y_train, Y_test, input_shape, output_shape, scaler_x, scaler_y = preprocess_data(X_train, X_test, Y_train, Y_test, params)"
   ]
  },
  {
   "cell_type": "code",
   "execution_count": 8,
   "id": "a10ed4fe",
   "metadata": {},
   "outputs": [
    {
     "data": {
      "text/plain": [
       "(array([-2.1532178e-09, -8.4266070e-09, -1.6019621e-09,  8.1360341e-09,\n",
       "         2.0712614e-09, -4.1774473e-09, -4.5262278e-09,  1.1421420e-08],\n",
       "       dtype=float32),\n",
       " array([1.0000015 , 0.99999946, 0.9999916 , 0.999992  , 0.9999958 ,\n",
       "        0.9999953 , 1.        , 0.9999921 ], dtype=float32))"
      ]
     },
     "execution_count": 8,
     "metadata": {},
     "output_type": "execute_result"
    }
   ],
   "source": [
    "X_train.mean(axis=0), X_train.std(axis=0) "
   ]
  },
  {
   "cell_type": "markdown",
   "id": "d4ccb03a",
   "metadata": {},
   "source": [
    "## Appears to be drift, perhaps the sample is not big enough"
   ]
  },
  {
   "cell_type": "code",
   "execution_count": 9,
   "id": "c161da77",
   "metadata": {},
   "outputs": [
    {
     "data": {
      "text/plain": [
       "(array([ 0.01566574, -0.01935916,  0.02933775, -0.03737441, -0.02744949,\n",
       "         0.02566588,  0.0023744 ,  0.00630145], dtype=float32),\n",
       " array([1.0110551 , 1.0071383 , 0.9933347 , 1.0196439 , 1.0422928 ,\n",
       "        0.99796194, 0.9964985 , 1.0558548 ], dtype=float32))"
      ]
     },
     "execution_count": 9,
     "metadata": {},
     "output_type": "execute_result"
    }
   ],
   "source": [
    "X_test.mean(axis=0), X_test.std(axis=0) "
   ]
  },
  {
   "cell_type": "code",
   "execution_count": 10,
   "id": "53e58115",
   "metadata": {},
   "outputs": [
    {
     "data": {
      "text/plain": [
       "(array([-7.4319542e-09,  3.9115547e-10, -8.8382510e-09,  1.0300427e-09,\n",
       "        -1.4256686e-08,  2.6724010e-09,  2.4039299e-08], dtype=float32),\n",
       " array([0.9999978 , 1.0000006 , 0.9999992 , 1.0000019 , 1.        ,\n",
       "        1.0000012 , 0.99999946], dtype=float32))"
      ]
     },
     "execution_count": 10,
     "metadata": {},
     "output_type": "execute_result"
    }
   ],
   "source": [
    "Y_train.mean(axis=0), Y_train.std(axis=0) "
   ]
  },
  {
   "cell_type": "code",
   "execution_count": 11,
   "id": "2baf62f6",
   "metadata": {},
   "outputs": [
    {
     "data": {
      "text/plain": [
       "(array([-0.02615544,  0.02592533,  0.01617737,  0.01231691,  0.02729797,\n",
       "         0.02005751, -0.00557732], dtype=float32),\n",
       " array([0.9778238, 1.0593427, 1.0234559, 1.0446359, 1.0161207, 1.0485954,\n",
       "        0.914684 ], dtype=float32))"
      ]
     },
     "execution_count": 11,
     "metadata": {},
     "output_type": "execute_result"
    }
   ],
   "source": [
    "Y_test.mean(axis=0), Y_test.std(axis=0)"
   ]
  },
  {
   "cell_type": "markdown",
   "id": "bcdca24f",
   "metadata": {},
   "source": [
    "## Dummy regressor"
   ]
  },
  {
   "cell_type": "code",
   "execution_count": 12,
   "id": "a74f6265",
   "metadata": {},
   "outputs": [],
   "source": [
    "from sklearn.dummy import DummyRegressor"
   ]
  },
  {
   "cell_type": "code",
   "execution_count": 13,
   "id": "d32b7301",
   "metadata": {},
   "outputs": [
    {
     "name": "stderr",
     "output_type": "stream",
     "text": [
      "/Users/goncaloabreu/miniforge3/envs/simple-ml/lib/python3.9/site-packages/sklearn/utils/deprecation.py:103: FutureWarning: `n_features_in_` is deprecated in 1.0 and will be removed in 1.2.\n",
      "  warnings.warn(msg, category=FutureWarning)\n"
     ]
    },
    {
     "data": {
      "text/plain": [
       "array([[ 1.9073487e-09,  9.5367436e-10, -5.9604646e-09, ...,\n",
       "        -4.0531161e-09,  4.7683718e-10,  4.7683715e-09],\n",
       "       [ 1.9073487e-09,  9.5367436e-10, -5.9604646e-09, ...,\n",
       "        -4.0531161e-09,  4.7683718e-10,  4.7683715e-09],\n",
       "       [ 1.9073487e-09,  9.5367436e-10, -5.9604646e-09, ...,\n",
       "        -4.0531161e-09,  4.7683718e-10,  4.7683715e-09],\n",
       "       ...,\n",
       "       [ 1.9073487e-09,  9.5367436e-10, -5.9604646e-09, ...,\n",
       "        -4.0531161e-09,  4.7683718e-10,  4.7683715e-09],\n",
       "       [ 1.9073487e-09,  9.5367436e-10, -5.9604646e-09, ...,\n",
       "        -4.0531161e-09,  4.7683718e-10,  4.7683715e-09],\n",
       "       [ 1.9073487e-09,  9.5367436e-10, -5.9604646e-09, ...,\n",
       "        -4.0531161e-09,  4.7683718e-10,  4.7683715e-09]], dtype=float32)"
      ]
     },
     "execution_count": 13,
     "metadata": {},
     "output_type": "execute_result"
    }
   ],
   "source": [
    "regr = MultiOutputRegressor(DummyRegressor(strategy=\"mean\")).fit(X_train, Y_train)\n",
    "regr.predict(X_train)"
   ]
  },
  {
   "cell_type": "code",
   "execution_count": 14,
   "id": "e960bbe7",
   "metadata": {},
   "outputs": [
    {
     "data": {
      "text/plain": [
       "0.63199794"
      ]
     },
     "execution_count": 14,
     "metadata": {},
     "output_type": "execute_result"
    }
   ],
   "source": [
    "mean_absolute_error(Y_train, regr.predict(X_train))"
   ]
  },
  {
   "cell_type": "code",
   "execution_count": 15,
   "id": "b5fa73bf",
   "metadata": {},
   "outputs": [
    {
     "data": {
      "text/plain": [
       "0.6350416"
      ]
     },
     "execution_count": 15,
     "metadata": {},
     "output_type": "execute_result"
    }
   ],
   "source": [
    "mean_absolute_error(Y_test, regr.predict(X_test))"
   ]
  },
  {
   "cell_type": "markdown",
   "id": "181ac703",
   "metadata": {},
   "source": [
    "## Train a linear regression for debugging"
   ]
  },
  {
   "cell_type": "code",
   "execution_count": 16,
   "id": "fb67a16f",
   "metadata": {},
   "outputs": [
    {
     "data": {
      "text/plain": [
       "array([[ 0.2668218 ,  0.49785665, -0.14110266, ..., -0.21119246,\n",
       "        -0.11503971,  0.08385517],\n",
       "       [-0.13136226, -0.21774325,  0.03752474, ...,  0.08587919,\n",
       "         0.03905897, -0.05397544],\n",
       "       [-0.12290849, -0.24603355,  0.10089954, ...,  0.11824025,\n",
       "         0.06466386, -0.02495952],\n",
       "       ...,\n",
       "       [-0.12654151, -0.24451499,  0.07418114, ...,  0.10212538,\n",
       "         0.06103366, -0.02823034],\n",
       "       [-0.09874371, -0.20784873,  0.0917204 , ...,  0.11425355,\n",
       "         0.07847044, -0.07360035],\n",
       "       [ 0.15325338,  0.33014053, -0.10994104, ..., -0.10436093,\n",
       "        -0.08484264, -0.10878628]], dtype=float32)"
      ]
     },
     "execution_count": 16,
     "metadata": {},
     "output_type": "execute_result"
    }
   ],
   "source": [
    "regr = MultiOutputRegressor(Ridge(random_state=params['random_state'])).fit(X_train, Y_train)\n",
    "regr.predict(X_train)"
   ]
  },
  {
   "cell_type": "code",
   "execution_count": 17,
   "id": "4f8b7880",
   "metadata": {},
   "outputs": [
    {
     "data": {
      "text/plain": [
       "0.61378956"
      ]
     },
     "execution_count": 17,
     "metadata": {},
     "output_type": "execute_result"
    }
   ],
   "source": [
    "mean_absolute_error(Y_train, regr.predict(X_train))"
   ]
  },
  {
   "cell_type": "code",
   "execution_count": 18,
   "id": "93fe236e",
   "metadata": {},
   "outputs": [
    {
     "data": {
      "text/plain": [
       "0.6197761"
      ]
     },
     "execution_count": 18,
     "metadata": {},
     "output_type": "execute_result"
    }
   ],
   "source": [
    "mean_absolute_error(Y_test, regr.predict(X_test))"
   ]
  },
  {
   "cell_type": "markdown",
   "id": "909b3bd7",
   "metadata": {},
   "source": [
    "## Lazy regressor"
   ]
  },
  {
   "cell_type": "code",
   "execution_count": 19,
   "id": "2c806985",
   "metadata": {
    "scrolled": false
   },
   "outputs": [
    {
     "name": "stderr",
     "output_type": "stream",
     "text": [
      "\r",
      "  0%|                                                                                                                                                     | 0/42 [00:00<?, ?it/s]"
     ]
    },
    {
     "name": "stdout",
     "output_type": "stream",
     "text": [
      "AdaBoostRegressor model failed to execute\n",
      "y should be a 1d array, got an array of shape (16000, 7) instead.\n"
     ]
    },
    {
     "name": "stderr",
     "output_type": "stream",
     "text": [
      " 10%|█████████████▍                                                                                                                               | 4/42 [00:01<00:11,  3.21it/s]"
     ]
    },
    {
     "name": "stdout",
     "output_type": "stream",
     "text": [
      "BayesianRidge model failed to execute\n",
      "y should be a 1d array, got an array of shape (16000, 7) instead.\n",
      "ElasticNetCV model failed to execute\n",
      "For multi-task outputs, use MultiTaskElasticNetCV\n"
     ]
    },
    {
     "name": "stderr",
     "output_type": "stream",
     "text": [
      "\r",
      " 21%|██████████████████████████████▏                                                                                                              | 9/42 [00:05<00:20,  1.59it/s]"
     ]
    },
    {
     "name": "stdout",
     "output_type": "stream",
     "text": [
      "GammaRegressor model failed to execute\n",
      "y should be a 1d array, got an array of shape (16000, 7) instead.\n"
     ]
    },
    {
     "name": "stderr",
     "output_type": "stream",
     "text": [
      " 36%|██████████████████████████████████████████████████                                                                                          | 15/42 [00:27<00:54,  2.01s/it]"
     ]
    },
    {
     "name": "stdout",
     "output_type": "stream",
     "text": [
      "GradientBoostingRegressor model failed to execute\n",
      "y should be a 1d array, got an array of shape (16000, 7) instead.\n",
      "HistGradientBoostingRegressor model failed to execute\n",
      "y should be a 1d array, got an array of shape (16000, 7) instead.\n",
      "HuberRegressor model failed to execute\n",
      "y should be a 1d array, got an array of shape (16000, 7) instead.\n"
     ]
    },
    {
     "name": "stderr",
     "output_type": "stream",
     "text": [
      "\r",
      " 40%|████████████████████████████████████████████████████████▋                                                                                   | 17/42 [00:40<01:17,  3.09s/it]"
     ]
    },
    {
     "name": "stdout",
     "output_type": "stream",
     "text": [
      "LarsCV model failed to execute\n",
      "y should be a 1d array, got an array of shape (16000, 7) instead.\n",
      "LassoCV model failed to execute\n",
      "For multi-task outputs, use MultiTaskLassoCV\n",
      "LassoLarsCV model failed to execute\n",
      "y should be a 1d array, got an array of shape (16000, 7) instead.\n",
      "LassoLarsIC model failed to execute\n",
      "y should be a 1d array, got an array of shape (16000, 7) instead.\n",
      "LinearSVR model failed to execute\n",
      "y should be a 1d array, got an array of shape (16000, 7) instead.\n"
     ]
    },
    {
     "name": "stderr",
     "output_type": "stream",
     "text": [
      " 79%|██████████████████████████████████████████████████████████████████████████████████████████████████████████████                              | 33/42 [00:44<00:07,  1.14it/s]"
     ]
    },
    {
     "name": "stdout",
     "output_type": "stream",
     "text": [
      "NuSVR model failed to execute\n",
      "y should be a 1d array, got an array of shape (16000, 7) instead.\n",
      "OrthogonalMatchingPursuitCV model failed to execute\n",
      "y should be a 1d array, got an array of shape (16000, 7) instead.\n",
      "PassiveAggressiveRegressor model failed to execute\n",
      "y should be a 1d array, got an array of shape (16000, 7) instead.\n",
      "PoissonRegressor model failed to execute\n",
      "y should be a 1d array, got an array of shape (16000, 7) instead.\n",
      "QuantileRegressor model failed to execute\n",
      "y should be a 1d array, got an array of shape (16000, 7) instead.\n"
     ]
    },
    {
     "name": "stderr",
     "output_type": "stream",
     "text": [
      "\r",
      " 86%|████████████████████████████████████████████████████████████████████████████████████████████████████████████████████████                    | 36/42 [00:56<00:08,  1.49s/it]"
     ]
    },
    {
     "name": "stdout",
     "output_type": "stream",
     "text": [
      "SGDRegressor model failed to execute\n",
      "y should be a 1d array, got an array of shape (16000, 7) instead.\n",
      "SVR model failed to execute\n",
      "y should be a 1d array, got an array of shape (16000, 7) instead.\n",
      "TweedieRegressor model failed to execute\n",
      "y should be a 1d array, got an array of shape (16000, 7) instead.\n"
     ]
    },
    {
     "name": "stderr",
     "output_type": "stream",
     "text": [
      "100%|████████████████████████████████████████████████████████████████████████████████████████████████████████████████████████████████████████████| 42/42 [01:00<00:00,  1.45s/it]"
     ]
    },
    {
     "name": "stdout",
     "output_type": "stream",
     "text": [
      "LGBMRegressor model failed to execute\n",
      "y should be a 1d array, got an array of shape (16000, 7) instead.\n",
      "                            Adjusted R-Squared  R-Squared   RMSE  Time Taken  \\\n",
      "Model                                                                          \n",
      "ExtraTreesRegressor                       0.66       0.66   0.60        3.84   \n",
      "RandomForestRegressor                     0.64       0.64   0.62       11.98   \n",
      "XGBRegressor                              0.64       0.64   0.62        4.36   \n",
      "BaggingRegressor                          0.61       0.61   0.64        1.21   \n",
      "MLPRegressor                              0.59       0.59   0.65        3.54   \n",
      "KNeighborsRegressor                       0.51       0.51   0.72        0.18   \n",
      "DecisionTreeRegressor                     0.29       0.29   0.87        0.20   \n",
      "ExtraTreeRegressor                        0.24       0.24   0.90        0.04   \n",
      "RidgeCV                                   0.04       0.04   0.99        0.01   \n",
      "Ridge                                     0.04       0.04   0.99        0.01   \n",
      "Lars                                      0.04       0.04   0.99        0.01   \n",
      "TransformedTargetRegressor                0.04       0.04   0.99        0.01   \n",
      "LinearRegression                          0.04       0.04   0.99        0.01   \n",
      "KernelRidge                               0.04       0.04   0.99       12.93   \n",
      "OrthogonalMatchingPursuit                 0.04       0.04   0.99        0.01   \n",
      "ElasticNet                               -0.00      -0.00   1.01        0.01   \n",
      "Lasso                                    -0.00      -0.00   1.01        0.01   \n",
      "DummyRegressor                           -0.00      -0.00   1.01        0.01   \n",
      "LassoLars                                -0.00      -0.00   1.01        0.01   \n",
      "RANSACRegressor                         -93.82     -93.63   9.53        0.09   \n",
      "GaussianProcessRegressor             -54985.81  -54875.81 230.97       22.40   \n",
      "\n",
      "                            mean_absolute_error  \n",
      "Model                                            \n",
      "ExtraTreesRegressor                        0.26  \n",
      "RandomForestRegressor                      0.27  \n",
      "XGBRegressor                               0.29  \n",
      "BaggingRegressor                           0.29  \n",
      "MLPRegressor                               0.35  \n",
      "KNeighborsRegressor                        0.33  \n",
      "DecisionTreeRegressor                      0.38  \n",
      "ExtraTreeRegressor                         0.39  \n",
      "RidgeCV                                    0.62  \n",
      "Ridge                                      0.62  \n",
      "Lars                                       0.62  \n",
      "TransformedTargetRegressor                 0.62  \n",
      "LinearRegression                           0.62  \n",
      "KernelRidge                                0.62  \n",
      "OrthogonalMatchingPursuit                  0.62  \n",
      "ElasticNet                                 0.64  \n",
      "Lasso                                      0.64  \n",
      "DummyRegressor                             0.64  \n",
      "LassoLars                                  0.64  \n",
      "RANSACRegressor                            3.34  \n",
      "GaussianProcessRegressor                  62.02  \n"
     ]
    },
    {
     "name": "stderr",
     "output_type": "stream",
     "text": [
      "\n"
     ]
    }
   ],
   "source": [
    "from lazypredict.Supervised import LazyRegressor\n",
    "from sklearn.metrics import mean_absolute_error\n",
    "\n",
    "reg = LazyRegressor(verbose=0, ignore_warnings=False, custom_metric=mean_absolute_error)\n",
    "models, predictions = reg.fit(X_train, X_test, Y_train, Y_test)\n",
    "\n",
    "print(models)"
   ]
  }
 ],
 "metadata": {
  "kernelspec": {
   "display_name": "Python 3 (ipykernel)",
   "language": "python",
   "name": "python3"
  },
  "language_info": {
   "codemirror_mode": {
    "name": "ipython",
    "version": 3
   },
   "file_extension": ".py",
   "mimetype": "text/x-python",
   "name": "python",
   "nbconvert_exporter": "python",
   "pygments_lexer": "ipython3",
   "version": "3.9.13"
  }
 },
 "nbformat": 4,
 "nbformat_minor": 5
}
